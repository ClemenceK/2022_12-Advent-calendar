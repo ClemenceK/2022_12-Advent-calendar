{
 "cells": [
  {
   "cell_type": "markdown",
   "id": "f927133e",
   "metadata": {},
   "source": [
    "https://adventofcode.com/2022/"
   ]
  },
  {
   "cell_type": "code",
   "execution_count": 1,
   "id": "86b46b6b",
   "metadata": {
    "ExecuteTime": {
     "end_time": "2022-12-24T08:29:50.132291Z",
     "start_time": "2022-12-24T08:29:48.836380Z"
    }
   },
   "outputs": [],
   "source": [
    "import pandas as pd"
   ]
  },
  {
   "cell_type": "markdown",
   "id": "cdaebcf5",
   "metadata": {},
   "source": [
    "# --- Day 6: Tuning Trouble ---\n"
   ]
  },
  {
   "cell_type": "code",
   "execution_count": 1,
   "id": "a8968186",
   "metadata": {
    "ExecuteTime": {
     "end_time": "2023-01-04T06:28:32.306569Z",
     "start_time": "2023-01-04T06:28:32.274877Z"
    }
   },
   "outputs": [
    {
     "data": {
      "text/plain": [
       "'stftmtvvtvqqczqqnjnwwlqqdzdnnsvnsswbbwsstvvssfjsjbjfjmjpjzpplpppjzjqqdzzhqqqqtcccbzzzwzrrrdqdldpdspp'"
      ]
     },
     "execution_count": 1,
     "metadata": {},
     "output_type": "execute_result"
    }
   ],
   "source": [
    "# Part 1\n",
    "file = \"input6.txt\"\n",
    "with open(file) as f:\n",
    "    input_str = f.read()\n",
    "input_str[:100]"
   ]
  },
  {
   "cell_type": "code",
   "execution_count": 93,
   "id": "29b113c2",
   "metadata": {
    "ExecuteTime": {
     "end_time": "2022-12-11T07:04:58.089000Z",
     "start_time": "2022-12-11T07:04:58.076016Z"
    }
   },
   "outputs": [],
   "source": [
    "input_str = input_str.strip(\"\\n\")"
   ]
  },
  {
   "cell_type": "code",
   "execution_count": 94,
   "id": "4b7e3acc",
   "metadata": {
    "ExecuteTime": {
     "end_time": "2022-12-11T07:04:58.253487Z",
     "start_time": "2022-12-11T07:04:58.247436Z"
    }
   },
   "outputs": [],
   "source": [
    "def seek_start_packet(input_str):\n",
    "    candidate=[]\n",
    "    for i, char in enumerate(input_str):\n",
    "        #print(i)\n",
    "        #print(f\"candidate:{candidate}, char:{char}\")\n",
    "        candidate.append(char)\n",
    "        #print(f\"new candidate:{candidate}\")\n",
    "        input_str=input_str[1:]\n",
    "        #print(f\"new str:{input_str[:5]}…\")\n",
    "        while len(set(candidate))<len(candidate):\n",
    "            candidate = candidate[1:]\n",
    "        #print(f\"new candidate:{candidate}\")\n",
    "        if len(candidate) == 4:\n",
    "            return i+1\n",
    "        #print(\"-----\")"
   ]
  },
  {
   "cell_type": "code",
   "execution_count": 95,
   "id": "fabb99a2",
   "metadata": {
    "ExecuteTime": {
     "end_time": "2022-12-11T07:04:58.761533Z",
     "start_time": "2022-12-11T07:04:58.748446Z"
    }
   },
   "outputs": [
    {
     "data": {
      "text/plain": [
       "1896"
      ]
     },
     "execution_count": 95,
     "metadata": {},
     "output_type": "execute_result"
    }
   ],
   "source": [
    "seek_start_packet(input_str)"
   ]
  },
  {
   "cell_type": "markdown",
   "id": "d67a580f",
   "metadata": {},
   "source": [
    "## Part 2"
   ]
  },
  {
   "cell_type": "code",
   "execution_count": 96,
   "id": "ea1b52df",
   "metadata": {
    "ExecuteTime": {
     "end_time": "2022-12-11T07:04:59.988497Z",
     "start_time": "2022-12-11T07:04:59.968751Z"
    }
   },
   "outputs": [
    {
     "data": {
      "text/plain": [
       "3452"
      ]
     },
     "execution_count": 96,
     "metadata": {},
     "output_type": "execute_result"
    }
   ],
   "source": [
    "def seek_start_thing(input_str, len_of_searched_item=14):\n",
    "    candidate=[]\n",
    "    for i, char in enumerate(input_str):\n",
    "        #print(i)\n",
    "        #print(f\"candidate:{candidate}, char:{char}\")\n",
    "        candidate.append(char)\n",
    "        #print(f\"new candidate:{candidate}\")\n",
    "        input_str=input_str[1:]\n",
    "        #print(f\"new str:{input_str[:5]}…\")\n",
    "        while len(set(candidate))<len(candidate):\n",
    "            candidate = candidate[1:]\n",
    "        #print(f\"new candidate:{candidate}\")\n",
    "        if len(candidate) == len_of_searched_item:\n",
    "            return i+1\n",
    "        #print(\"-----\")\n",
    "        \n",
    "input_str = input_str.strip(\"\\n\")\n",
    "seek_start_thing(input_str)"
   ]
  },
  {
   "cell_type": "markdown",
   "id": "a3fbd5b0",
   "metadata": {},
   "source": [
    "# --- Day 7: No Space Left On Device ---"
   ]
  },
  {
   "cell_type": "code",
   "execution_count": 2,
   "id": "c38c22ab",
   "metadata": {
    "ExecuteTime": {
     "end_time": "2023-01-04T06:28:54.955526Z",
     "start_time": "2023-01-04T06:28:54.950665Z"
    }
   },
   "outputs": [],
   "source": [
    "# Part 1"
   ]
  },
  {
   "cell_type": "code",
   "execution_count": 3,
   "id": "19139035",
   "metadata": {
    "ExecuteTime": {
     "end_time": "2023-01-04T06:28:55.310114Z",
     "start_time": "2023-01-04T06:28:55.304741Z"
    }
   },
   "outputs": [],
   "source": [
    "file = \"input7.txt\"\n",
    "with open(file) as f:\n",
    "    input_str = f.read()"
   ]
  },
  {
   "cell_type": "code",
   "execution_count": 4,
   "id": "11ba62c5",
   "metadata": {
    "ExecuteTime": {
     "end_time": "2023-01-04T06:28:55.708795Z",
     "start_time": "2023-01-04T06:28:55.704263Z"
    }
   },
   "outputs": [],
   "source": [
    "import re"
   ]
  },
  {
   "cell_type": "code",
   "execution_count": 16,
   "id": "9db4004e",
   "metadata": {
    "ExecuteTime": {
     "end_time": "2023-01-04T06:30:22.889407Z",
     "start_time": "2023-01-04T06:30:22.878270Z"
    }
   },
   "outputs": [],
   "source": [
    "# Approche liste et compteurs et récurrence\n",
    "\n",
    "input_list = input_str.split(\"\\n\")\n",
    "\n",
    "# if cd name:\n",
    "#   next should be ls\n",
    "#   then items: if file, add size to name.size\n",
    "#   if dir: proceed recursively\n",
    "#   if cd .. exit loop and add to dict: name: size()\n",
    "\n",
    "def is_cd_up(item, stack, dict_folders):\n",
    "    pattern = re.compile(\"\\$ cd (\\.\\.)\")\n",
    "    re.search(pattern, item)[1]\n",
    "    stack.pop()\n",
    "    #print(f\"item: {item}, stack: {stack}, dict_folders:{dict_folders}\")\n",
    "    return stack, dict_folders\n",
    "\n",
    "    \n",
    "def is_folder(item, stack, dict_folders):\n",
    "    pattern = re.compile(\"\\$ cd (.+)\")\n",
    "    \n",
    "    dir_name = re.search(pattern, item)[1]\n",
    "    #print(f\"stack:{stack}\")\n",
    "    full_name = \"\"\n",
    "    for n in stack[1:]:\n",
    "        full_name += n; full_name+=\"/\"\n",
    "        #print(full_name)\n",
    "    full_name +=dir_name\n",
    "    stack.append(full_name)\n",
    "    #print(stack)\n",
    "    dict_folders[full_name] = 0\n",
    "    #print(f\"item: {item}, stack: {stack}, dict_folders:{dict_folders}\")\n",
    "    return stack, dict_folders\n",
    "\n",
    "def is_file(item, stack, dict_folders):\n",
    "    pattern = re.compile(\"(\\d+?) .*\")\n",
    "    \n",
    "    file_size = re.search(pattern, item)[1]\n",
    "    #print(file_size)\n",
    "    #print(stack, stack[-1], dict_folders[stack[-1]], type(dict_folders[stack[-1]]))\n",
    "    #print(dict_folders)\n",
    "    for i in range(len(stack)):\n",
    "        dict_folders[stack[i]] += int(file_size)\n",
    "    #print(f\"item: {item}, stack: {stack}, dict_folders:{dict_folders}\")\n",
    "    return stack, dict_folders\n"
   ]
  },
  {
   "cell_type": "code",
   "execution_count": 17,
   "id": "76f60b85",
   "metadata": {
    "ExecuteTime": {
     "end_time": "2023-01-04T06:30:23.600249Z",
     "start_time": "2023-01-04T06:30:23.580621Z"
    }
   },
   "outputs": [],
   "source": [
    "stack = []\n",
    "dict_folders = {}\n",
    "for i in input_list:\n",
    "    #print(f\"####\")\n",
    "    \n",
    "    # cd ..\n",
    "    try: \n",
    "        stack, dict_folders = is_cd_up(i, stack, dict_folders)\n",
    "        #print(f\"this is a cd ..\\n\")\n",
    "        continue\n",
    "    except: pass #print(\"not a cd ..\")\n",
    "    \n",
    "    # cd dir_name\n",
    "    try: \n",
    "        stack, dict_folders = is_folder(i, stack, dict_folders)\n",
    "        #print(f\"this is a dir change\\n\")\n",
    "        continue\n",
    "    except: pass #print(\"not a dir change\")\n",
    "        \n",
    "    # file with size\n",
    "    try: \n",
    "        stack, dict_folders = is_file(i, stack, dict_folders)\n",
    "        #print(f\"this is a file\\n\")\n",
    "        continue\n",
    "    except: pass# print(\"not a file\")\n",
    "        \n",
    "    #print(\"\\n\")"
   ]
  },
  {
   "cell_type": "code",
   "execution_count": 18,
   "id": "7e565174",
   "metadata": {
    "ExecuteTime": {
     "end_time": "2023-01-04T06:30:26.850153Z",
     "start_time": "2023-01-04T06:30:26.839545Z"
    }
   },
   "outputs": [
    {
     "data": {
      "text/plain": [
       "1543140"
      ]
     },
     "execution_count": 18,
     "metadata": {},
     "output_type": "execute_result"
    }
   ],
   "source": [
    "max_size = 100000\n",
    "target_folders = [dict_folders[name] for name in dict_folders.keys() if dict_folders[name] <= max_size]\n",
    "\n",
    "sum(target_folders) # 1543140"
   ]
  },
  {
   "cell_type": "code",
   "execution_count": 19,
   "id": "4e49eba0",
   "metadata": {
    "ExecuteTime": {
     "end_time": "2023-01-04T06:30:27.976854Z",
     "start_time": "2023-01-04T06:30:27.973172Z"
    }
   },
   "outputs": [],
   "source": [
    "#issue\n",
    "#len(input_str.split(\"cd ..\")) > len(dict_folders)\n",
    "# some subfolders may have same name"
   ]
  },
  {
   "cell_type": "markdown",
   "id": "41351b28",
   "metadata": {
    "ExecuteTime": {
     "end_time": "2022-12-17T11:08:21.910778Z",
     "start_time": "2022-12-17T11:08:21.903471Z"
    }
   },
   "source": [
    "--- Part Two ---\n"
   ]
  },
  {
   "cell_type": "code",
   "execution_count": 20,
   "id": "e858c5c7",
   "metadata": {
    "ExecuteTime": {
     "end_time": "2023-01-04T06:30:30.965317Z",
     "start_time": "2023-01-04T06:30:30.960877Z"
    }
   },
   "outputs": [],
   "source": [
    "total_disk_space = 70000000\n",
    "needed_unused_space = 30000000"
   ]
  },
  {
   "cell_type": "code",
   "execution_count": 21,
   "id": "72554426",
   "metadata": {
    "ExecuteTime": {
     "end_time": "2023-01-04T06:30:32.418422Z",
     "start_time": "2023-01-04T06:30:32.413411Z"
    }
   },
   "outputs": [],
   "source": [
    "total_occupied_space = dict_folders['/']"
   ]
  },
  {
   "cell_type": "code",
   "execution_count": 22,
   "id": "e28b9cf3",
   "metadata": {
    "ExecuteTime": {
     "end_time": "2023-01-04T06:30:32.813779Z",
     "start_time": "2023-01-04T06:30:32.806880Z"
    }
   },
   "outputs": [
    {
     "data": {
      "text/plain": [
       "41111105"
      ]
     },
     "execution_count": 22,
     "metadata": {},
     "output_type": "execute_result"
    }
   ],
   "source": [
    "total_occupied_space"
   ]
  },
  {
   "cell_type": "code",
   "execution_count": 23,
   "id": "4c496307",
   "metadata": {
    "ExecuteTime": {
     "end_time": "2023-01-04T06:30:34.929151Z",
     "start_time": "2023-01-04T06:30:34.925219Z"
    }
   },
   "outputs": [],
   "source": [
    "free_space = total_disk_space - total_occupied_space"
   ]
  },
  {
   "cell_type": "code",
   "execution_count": 24,
   "id": "55022934",
   "metadata": {
    "ExecuteTime": {
     "end_time": "2023-01-04T06:30:35.152562Z",
     "start_time": "2023-01-04T06:30:35.145048Z"
    }
   },
   "outputs": [],
   "source": [
    "required_min_size = needed_unused_space - free_space"
   ]
  },
  {
   "cell_type": "code",
   "execution_count": 25,
   "id": "a361b08d",
   "metadata": {
    "ExecuteTime": {
     "end_time": "2023-01-04T06:30:35.305432Z",
     "start_time": "2023-01-04T06:30:35.297164Z"
    }
   },
   "outputs": [
    {
     "data": {
      "text/plain": [
       "1111105"
      ]
     },
     "execution_count": 25,
     "metadata": {},
     "output_type": "execute_result"
    }
   ],
   "source": [
    "required_min_size"
   ]
  },
  {
   "cell_type": "code",
   "execution_count": 26,
   "id": "b2867bc4",
   "metadata": {
    "ExecuteTime": {
     "end_time": "2023-01-04T06:30:35.471969Z",
     "start_time": "2023-01-04T06:30:35.460948Z"
    }
   },
   "outputs": [],
   "source": [
    "candidates = [dict_folders[k] for k in dict_folders.keys() if dict_folders[k]>=required_min_size]"
   ]
  },
  {
   "cell_type": "code",
   "execution_count": 27,
   "id": "93daa14b",
   "metadata": {
    "ExecuteTime": {
     "end_time": "2023-01-04T06:30:36.013998Z",
     "start_time": "2023-01-04T06:30:36.006694Z"
    }
   },
   "outputs": [],
   "source": [
    "candidates.sort()"
   ]
  },
  {
   "cell_type": "code",
   "execution_count": 28,
   "id": "7da3111e",
   "metadata": {
    "ExecuteTime": {
     "end_time": "2023-01-04T06:30:36.493050Z",
     "start_time": "2023-01-04T06:30:36.449699Z"
    }
   },
   "outputs": [
    {
     "data": {
      "text/plain": [
       "1117448"
      ]
     },
     "execution_count": 28,
     "metadata": {},
     "output_type": "execute_result"
    }
   ],
   "source": [
    "candidates[0] #1117448"
   ]
  },
  {
   "cell_type": "markdown",
   "id": "c4461649",
   "metadata": {},
   "source": [
    "# --- Day 8: Treetop Tree House ---"
   ]
  },
  {
   "cell_type": "markdown",
   "id": "d986f83d",
   "metadata": {},
   "source": [
    "## Part 1"
   ]
  },
  {
   "cell_type": "code",
   "execution_count": 29,
   "id": "02bd796a",
   "metadata": {
    "ExecuteTime": {
     "end_time": "2023-01-04T06:33:14.048188Z",
     "start_time": "2023-01-04T06:33:14.039070Z"
    }
   },
   "outputs": [
    {
     "data": {
      "text/plain": [
       "'012210012213303320303222443113334342210313303454311331225110130030424212142031302213330002110012202\\n'"
      ]
     },
     "execution_count": 29,
     "metadata": {},
     "output_type": "execute_result"
    }
   ],
   "source": [
    "# Consider your map; how many trees are visible from outside the grid?\n",
    "\n",
    "# (consider only interior?)\n",
    "# for each: consider each of 4 directions\n",
    "# is self.height <= max height in that direction? \n",
    "# visibility = and (visibility) in each direction\n",
    "\n",
    "file = \"input8.txt\"\n",
    "with open(file) as f:\n",
    "    input_str = f.read()\n",
    "input_str[:100]"
   ]
  },
  {
   "cell_type": "code",
   "execution_count": 30,
   "id": "d316d45c",
   "metadata": {
    "ExecuteTime": {
     "end_time": "2023-01-04T06:33:15.204320Z",
     "start_time": "2023-01-04T06:33:14.906109Z"
    }
   },
   "outputs": [
    {
     "data": {
      "text/plain": [
       "(99, 99)"
      ]
     },
     "execution_count": 30,
     "metadata": {},
     "output_type": "execute_result"
    }
   ],
   "source": [
    "import numpy as np\n",
    "\n",
    "input_array = np.array([[int(x) for x in list(line)] for line in input_str.split('\\n')[:-1]])\n",
    "\n",
    "input_array.shape"
   ]
  },
  {
   "cell_type": "code",
   "execution_count": 31,
   "id": "b592cc3a",
   "metadata": {
    "ExecuteTime": {
     "end_time": "2023-01-04T06:33:21.865803Z",
     "start_time": "2023-01-04T06:33:21.855516Z"
    }
   },
   "outputs": [],
   "source": [
    "def is_visible(n_line, n_col, forest):\n",
    "    \n",
    "    height=forest[n_line,n_col]\n",
    "    line=forest[n_line,:]\n",
    "    col =forest[:,n_col]\n",
    "    #print(height)\n",
    "    #print(line)\n",
    "    #print(col)\n",
    "\n",
    "    try: \n",
    "        my_max=max(line[:n_col])\n",
    "        is_visible_from_left= my_max < height\n",
    "    except: is_visible_from_left = True \n",
    "    #print(f\"is_visible_from_left {is_visible_from_left}\")\n",
    "\n",
    "    try: \n",
    "        my_max=max(line[n_col+1:])\n",
    "        is_visible_from_right= my_max < height\n",
    "    except: is_visible_from_right=True\n",
    "    #print(f\"is_visible_from_right {is_visible_from_right}\")\n",
    "    \n",
    "    try: \n",
    "        my_max=max(col[:n_line])\n",
    "        is_visible_from_top= my_max < height\n",
    "    except: is_visible_from_top=True\n",
    "    #print(f\"is_visible_from_top {is_visible_from_top}\")\n",
    "    \n",
    "    try: \n",
    "        my_max=max(col[n_line+1:])\n",
    "        is_visible_from_bottom= my_max < height\n",
    "    except: is_visible_from_bottom=True\n",
    "    #print(f\"is_visible_from_bottom {is_visible_from_bottom}\")\n",
    "    \n",
    "    return int(is_visible_from_left or is_visible_from_right or is_visible_from_top or is_visible_from_bottom)"
   ]
  },
  {
   "cell_type": "code",
   "execution_count": 32,
   "id": "89d97a67",
   "metadata": {
    "ExecuteTime": {
     "end_time": "2023-01-04T06:33:22.745884Z",
     "start_time": "2023-01-04T06:33:22.358640Z"
    }
   },
   "outputs": [
    {
     "data": {
      "text/plain": [
       "''"
      ]
     },
     "execution_count": 32,
     "metadata": {},
     "output_type": "execute_result"
    }
   ],
   "source": [
    "visible=np.array([[is_visible(i,j, input_array) for j in range(input_array.shape[1])] for i in range(input_array.shape[0])])\n",
    ";"
   ]
  },
  {
   "cell_type": "code",
   "execution_count": 33,
   "id": "cc1cb0cf",
   "metadata": {
    "ExecuteTime": {
     "end_time": "2023-01-04T06:33:24.895454Z",
     "start_time": "2023-01-04T06:33:24.886673Z"
    }
   },
   "outputs": [
    {
     "data": {
      "text/plain": [
       "1825"
      ]
     },
     "execution_count": 33,
     "metadata": {},
     "output_type": "execute_result"
    }
   ],
   "source": [
    "sum(sum(visible)) # 1825"
   ]
  },
  {
   "cell_type": "code",
   "execution_count": 34,
   "id": "64da56d3",
   "metadata": {
    "ExecuteTime": {
     "end_time": "2023-01-04T06:33:28.479998Z",
     "start_time": "2023-01-04T06:33:28.470942Z"
    }
   },
   "outputs": [
    {
     "data": {
      "text/plain": [
       "2"
      ]
     },
     "execution_count": 34,
     "metadata": {},
     "output_type": "execute_result"
    }
   ],
   "source": [
    "def scenic_score_partial(height_tree, list_from_nth):\n",
    "        #print(f\"height of tree:{height_tree}, list_from_nth:{list_from_nth}\")        \n",
    "        if len(list_from_nth)==0: return 0\n",
    "        for n, height_neighbor in enumerate(list_from_nth):\n",
    "            #print(f\"n:{n}, height_neighbor:{height_neighbor}, height_tree:{height_tree}\")\n",
    "            if height_neighbor >= height_tree:\n",
    "                #print(f\"all ok, dist={n+1}\")\n",
    "                return n+1\n",
    "        else: return len(list_from_nth)\n",
    "            \n",
    "scenic_score_partial(3, [1,3,3,8])"
   ]
  },
  {
   "cell_type": "code",
   "execution_count": 35,
   "id": "5e1c70cc",
   "metadata": {
    "ExecuteTime": {
     "end_time": "2023-01-04T06:33:30.423566Z",
     "start_time": "2023-01-04T06:33:30.414750Z"
    }
   },
   "outputs": [],
   "source": [
    "def scenic_score(n_line, n_col, forest):\n",
    "    \n",
    "    height=forest[n_line,n_col]\n",
    "    line=forest[n_line,:]\n",
    "    col =forest[:,n_col]\n",
    "    #print(height)\n",
    "    #print(line)\n",
    "    #print(col)\n",
    "\n",
    "    if n_col==0: list_left = [] \n",
    "    else: list_left =line[n_col-1::-1]\n",
    "    #print(f\"🔵line:{line}\\nlist_left:{list_left}\")\n",
    "    scenic_score_left = scenic_score_partial(height, list_left) \n",
    "    #print(f\"scenic_score_left {scenic_score_left}\")\n",
    "\n",
    "    list_right = line[n_col+1:]\n",
    "    #print(list_right)\n",
    "    scenic_score_right = scenic_score_partial(height, list_right) \n",
    "    #print(f\"scenic_score_right {scenic_score_right}\")\n",
    "    \n",
    "    if n_line==0: list_top = []\n",
    "    else: list_top =col[n_line-1::-1]\n",
    "    #print(f\"🔵col:{col}\\nlist_top:{list_top}\")\n",
    "    scenic_score_top = scenic_score_partial(height, list_top) \n",
    "    #print(f\"scenic_score_top {scenic_score_top}\")\n",
    "\n",
    "    list_bottom = col[n_line+1:]\n",
    "    #print(list_bottom)\n",
    "    scenic_score_bottom = scenic_score_partial(height, list_bottom) \n",
    "    #print(f\"scenic_score_bottom {scenic_score_bottom}\")\n",
    "    \n",
    "    #return max(scenic_score_left, scenic_score_right, scenic_score_top, scenic_score_bottom)\n",
    "\n",
    "    return (scenic_score_left * scenic_score_right * scenic_score_top * scenic_score_bottom)\n",
    "    #print(scenic_score_left, scenic_score_right, scenic_score_top, scenic_score_bottom)"
   ]
  },
  {
   "cell_type": "code",
   "execution_count": 36,
   "id": "bae051b3",
   "metadata": {
    "ExecuteTime": {
     "end_time": "2023-01-04T06:33:31.718717Z",
     "start_time": "2023-01-04T06:33:31.711003Z"
    }
   },
   "outputs": [
    {
     "data": {
      "text/plain": [
       "1"
      ]
     },
     "execution_count": 36,
     "metadata": {},
     "output_type": "execute_result"
    }
   ],
   "source": [
    "scenic_score(2,4, input_array)"
   ]
  },
  {
   "cell_type": "code",
   "execution_count": 37,
   "id": "36a1f292",
   "metadata": {
    "ExecuteTime": {
     "end_time": "2023-01-04T06:33:33.865024Z",
     "start_time": "2023-01-04T06:33:33.767879Z"
    }
   },
   "outputs": [],
   "source": [
    "#Consider each tree on your map. What is the highest scenic score possible for any tree?\n",
    "\n",
    "scenic=np.array([[scenic_score(i,j, input_array) for j in range(input_array.shape[1])] for i in range(input_array.shape[0])])"
   ]
  },
  {
   "cell_type": "code",
   "execution_count": 38,
   "id": "b66b1e2f",
   "metadata": {
    "ExecuteTime": {
     "end_time": "2023-01-04T06:33:41.350765Z",
     "start_time": "2023-01-04T06:33:41.342817Z"
    }
   },
   "outputs": [
    {
     "data": {
      "text/plain": [
       "235200"
      ]
     },
     "execution_count": 38,
     "metadata": {},
     "output_type": "execute_result"
    }
   ],
   "source": [
    "scenic.max(axis=0).max() #235200"
   ]
  },
  {
   "cell_type": "code",
   "execution_count": 243,
   "id": "54ebfdda",
   "metadata": {
    "ExecuteTime": {
     "end_time": "2022-12-18T22:25:49.390900Z",
     "start_time": "2022-12-18T22:25:49.385503Z"
    }
   },
   "outputs": [],
   "source": [
    "#compare 44*44*44*44 #3748096"
   ]
  },
  {
   "cell_type": "markdown",
   "id": "3841142e",
   "metadata": {},
   "source": [
    "# --- Day 9: Rope Bridge ---\n",
    "\n"
   ]
  },
  {
   "cell_type": "code",
   "execution_count": 44,
   "id": "f23b9264",
   "metadata": {
    "ExecuteTime": {
     "end_time": "2023-01-04T06:37:12.313594Z",
     "start_time": "2023-01-04T06:37:12.304116Z"
    }
   },
   "outputs": [
    {
     "data": {
      "text/plain": [
       "'L 1\\nR 1\\nD 1\\nR 2\\nD 2\\nL 1\\nD 1\\nL 2\\nR 1\\nL 1\\nU 1\\nD 2\\nR 1\\nD 2\\nR 1\\nL 2\\nD 1\\nU 1\\nL 2\\nU 1\\nD 1\\nU 1\\nD 2\\nL 2\\nD 2\\n'"
      ]
     },
     "execution_count": 44,
     "metadata": {},
     "output_type": "execute_result"
    }
   ],
   "source": [
    "file=\"input9.txt\"\n",
    "with open(file) as f:\n",
    "    input_str= f.read()\n",
    "input_str[:100]"
   ]
  },
  {
   "cell_type": "code",
   "execution_count": 45,
   "id": "3f1ac767",
   "metadata": {
    "ExecuteTime": {
     "end_time": "2023-01-04T06:37:12.855385Z",
     "start_time": "2023-01-04T06:37:12.833096Z"
    }
   },
   "outputs": [],
   "source": [
    "input_moves=input_str.split(\"\\n\")[:-1] # last is ''\n",
    "import re\n",
    "pattern = re.compile(\"([LRDU]) (\\d)\")\n",
    "moves = [(re.search(pattern, string)[1], re.search(pattern, string)[2]) for string in input_moves]"
   ]
  },
  {
   "cell_type": "code",
   "execution_count": 46,
   "id": "a71cb17b",
   "metadata": {
    "ExecuteTime": {
     "end_time": "2023-01-04T06:37:13.294529Z",
     "start_time": "2023-01-04T06:37:13.287371Z"
    }
   },
   "outputs": [
    {
     "data": {
      "text/plain": [
       "[('L', '1'), ('R', '1'), ('D', '1'), ('R', '2')]"
      ]
     },
     "execution_count": 46,
     "metadata": {},
     "output_type": "execute_result"
    }
   ],
   "source": [
    "moves[:4]"
   ]
  },
  {
   "cell_type": "code",
   "execution_count": 47,
   "id": "019713ed",
   "metadata": {
    "ExecuteTime": {
     "end_time": "2023-01-04T06:37:13.943499Z",
     "start_time": "2023-01-04T06:37:13.930309Z"
    }
   },
   "outputs": [],
   "source": [
    "import math\n",
    "import numpy as np\n",
    "\n",
    "def euclidean_distance(current_pos_H, current_pos_T):\n",
    "  return math.sqrt((current_pos_H[0] - current_pos_T[0])**2 + (current_pos_H[1] - current_pos_T[1])**2)\n",
    "\n",
    "def follow_coord(one_coord_H, one_coord_T):\n",
    "    \"\"\" one_coord_H and one_coord_T are integer coordinates, either both x or both y\"\"\"\n",
    "    if one_coord_H == one_coord_T: return one_coord_T\n",
    "    else: return one_coord_T+np.sign(one_coord_H - one_coord_T)\n",
    "\n",
    "def follow(current_pos_H, current_pos_T, coord_T=[0,0]):\n",
    "    \"\"\" both arguments are (x,y) tuples\"\"\"\n",
    "    if (abs(current_pos_H[0]-current_pos_T[0])<=1 and abs(current_pos_H[1]-current_pos_T[1])<=1): \n",
    "        return current_pos_T\n",
    "    for i in range(2):\n",
    "        coord_T[i]=follow_coord(current_pos_H[i],current_pos_T[i])\n",
    "    #print(f\"follow gave: {coord_T}\")\n",
    "    return tuple(coord_T)\n",
    "\n",
    "def move_in_direction(direction, current_pos_H):\n",
    "    if direction == 'L': return [current_pos_H[0]-1, current_pos_H[1]]\n",
    "    if direction == 'R': return [current_pos_H[0]+1, current_pos_H[1]]\n",
    "    if direction == 'D': return [current_pos_H[0], current_pos_H[1]-1]\n",
    "    if direction == 'U': return [current_pos_H[0], current_pos_H[1]+1]"
   ]
  },
  {
   "cell_type": "code",
   "execution_count": 50,
   "id": "3e9a72af",
   "metadata": {
    "ExecuteTime": {
     "end_time": "2023-01-04T06:37:29.347210Z",
     "start_time": "2023-01-04T06:37:29.339308Z"
    }
   },
   "outputs": [],
   "source": [
    "def perform_move(move_H, pos_H, pos_T, all_T_pos):\n",
    "    \"\"\"move is of form: ('L', '1')\n",
    "    pos_H and pos_T are list of [x,y] lists, latest being current position\"\"\"\n",
    "    # while move_H.nb >0: first T follows, then H moves\n",
    "    \n",
    "    direction = move_H[0]\n",
    "    nb_moves = int(move_H[1])\n",
    "    current_pos_H = pos_H[-1]\n",
    "    current_pos_T = pos_T[-1]\n",
    "    \n",
    "    #print(f\"current_pos_T:{current_pos_T}\")\n",
    "        \n",
    "    for i in range(nb_moves):\n",
    "        #print(f\"move {move_H}, step #{i+1}\")\n",
    "                \n",
    "        # move H\n",
    "        current_pos_H = move_in_direction(direction, current_pos_H)\n",
    "        #print(f\"new current_pos_H:{current_pos_H}\")\n",
    "\n",
    "        # follow T\n",
    "        current_pos_T = follow(current_pos_H, current_pos_T)\n",
    "        # update all_T_pos\n",
    "        all_T_pos.append(current_pos_T)\n",
    "        #print(f\"all_T_pos: {all_T_pos}\\n\")\n",
    "        \n",
    "\n",
    "    # update positions\n",
    "    pos_H.append(tuple(current_pos_H))\n",
    "    pos_T.append(tuple(current_pos_T))\n",
    "    \n",
    "    #print(f\"new pos_H: {pos_H},\\npos_T:{pos_T}\\n\\n\\n\")\n",
    "    \n",
    "    return pos_H, pos_T, all_T_pos   "
   ]
  },
  {
   "cell_type": "code",
   "execution_count": 51,
   "id": "86670773",
   "metadata": {
    "ExecuteTime": {
     "end_time": "2023-01-04T06:37:29.933098Z",
     "start_time": "2023-01-04T06:37:29.920304Z"
    }
   },
   "outputs": [
    {
     "data": {
      "text/plain": [
       "13"
      ]
     },
     "execution_count": 51,
     "metadata": {},
     "output_type": "execute_result"
    }
   ],
   "source": [
    "pos_H = [(0, 0)]\n",
    "pos_T = pos_H.copy()\n",
    "all_T_pos = pos_H.copy()\n",
    "i=0\n",
    "\n",
    "\n",
    "test_moves_str = \"\"\"R 4\n",
    "U 4\n",
    "L 3\n",
    "D 1\n",
    "R 4\n",
    "D 1\n",
    "L 5\n",
    "R 2\n",
    "\"\"\"\n",
    "\n",
    "test_input_moves=test_moves_str.split(\"\\n\")[:-1] # last is ''\n",
    "import re\n",
    "pattern = re.compile(\"([LRDU]) (\\d)\")\n",
    "test_moves = [(re.search(pattern, string)[1], re.search(pattern, string)[2]) for string in test_input_moves]\n",
    "\n",
    "for i in range (len(test_moves)):\n",
    "    move_H=test_moves[i]\n",
    "    #print(f\"### before move \\npos_H: {pos_H},\\npos_T:{pos_T}\\n\\n\")\n",
    "    pos_H, pos_T, all_T_pos = perform_move(move_H, pos_H, pos_T, all_T_pos)\n",
    "    #print(f\"### now pos_H: {pos_H},\\npos_T:{pos_T}\")\n",
    "    i += 1\n",
    "    \n",
    "len(set(all_T_pos))"
   ]
  },
  {
   "cell_type": "code",
   "execution_count": 52,
   "id": "43f1a061",
   "metadata": {
    "ExecuteTime": {
     "end_time": "2023-01-04T06:37:31.943285Z",
     "start_time": "2023-01-04T06:37:31.935434Z"
    }
   },
   "outputs": [
    {
     "data": {
      "text/plain": [
       "{(0, 0),\n",
       " (1, 0),\n",
       " (1, 2),\n",
       " (2, 0),\n",
       " (2, 2),\n",
       " (2, 4),\n",
       " (3, 0),\n",
       " (3, 2),\n",
       " (3, 3),\n",
       " (3, 4),\n",
       " (4, 1),\n",
       " (4, 2),\n",
       " (4, 3)}"
      ]
     },
     "execution_count": 52,
     "metadata": {},
     "output_type": "execute_result"
    }
   ],
   "source": [
    "set(all_T_pos)"
   ]
  },
  {
   "cell_type": "code",
   "execution_count": 53,
   "id": "7f151f2e",
   "metadata": {
    "ExecuteTime": {
     "end_time": "2023-01-04T06:37:35.768222Z",
     "start_time": "2023-01-04T06:37:35.693368Z"
    }
   },
   "outputs": [
    {
     "data": {
      "text/plain": [
       "6839"
      ]
     },
     "execution_count": 53,
     "metadata": {},
     "output_type": "execute_result"
    }
   ],
   "source": [
    "pos_H = [(0, 0)]\n",
    "pos_T = pos_H.copy()\n",
    "all_T_pos = pos_H.copy()\n",
    "i=0\n",
    "\n",
    "for i in range (len(moves)):\n",
    "    move_H=moves[i]\n",
    "    #print(f\"### before move \\npos_H: {pos_H},\\npos_T:{pos_T}\\n\\n\")\n",
    "    pos_H, pos_T, all_T_pos = perform_move(move_H, pos_H, pos_T, all_T_pos)\n",
    "    #print(f\"### now pos_H: {pos_H},\\npos_T:{pos_T}\")\n",
    "    i += 1\n",
    "    \n",
    "len(all_T_pos) #6839"
   ]
  },
  {
   "cell_type": "code",
   "execution_count": 54,
   "id": "99660baf",
   "metadata": {
    "ExecuteTime": {
     "end_time": "2023-01-04T06:37:52.113045Z",
     "start_time": "2023-01-04T06:37:52.104153Z"
    }
   },
   "outputs": [
    {
     "data": {
      "text/plain": [
       "3196"
      ]
     },
     "execution_count": 54,
     "metadata": {},
     "output_type": "execute_result"
    }
   ],
   "source": [
    "len(set(all_T_pos)) #3196"
   ]
  },
  {
   "cell_type": "code",
   "execution_count": 55,
   "id": "ea1e6524",
   "metadata": {
    "ExecuteTime": {
     "end_time": "2023-01-04T06:37:52.666291Z",
     "start_time": "2023-01-04T06:37:52.640897Z"
    }
   },
   "outputs": [
    {
     "data": {
      "text/plain": [
       "3196"
      ]
     },
     "execution_count": 55,
     "metadata": {},
     "output_type": "execute_result"
    }
   ],
   "source": [
    "len(set([str(i[0])+\";\"+str(i[1]) for i in all_T_pos]))\n",
    "#set seems as good on tuples as on string"
   ]
  },
  {
   "cell_type": "code",
   "execution_count": 56,
   "id": "46a97b7e",
   "metadata": {
    "ExecuteTime": {
     "end_time": "2023-01-04T06:37:57.113146Z",
     "start_time": "2023-01-04T06:37:57.103093Z"
    }
   },
   "outputs": [
    {
     "data": {
      "text/plain": [
       "3196"
      ]
     },
     "execution_count": 56,
     "metadata": {},
     "output_type": "execute_result"
    }
   ],
   "source": [
    "len(set(all_T_pos))"
   ]
  },
  {
   "cell_type": "code",
   "execution_count": 61,
   "id": "8f79fa65",
   "metadata": {
    "ExecuteTime": {
     "end_time": "2023-01-04T06:39:08.466566Z",
     "start_time": "2023-01-04T06:39:08.318554Z"
    }
   },
   "outputs": [
    {
     "name": "stdout",
     "output_type": "stream",
     "text": [
      "6269\n",
      "2557\n"
     ]
    }
   ],
   "source": [
    "#used most elegant solution from reddit https://www.reddit.com/r/adventofcode/comments/zgnice/2022_day_9_solutions/ errop_\n",
    "from math import sqrt\n",
    "\n",
    "UNIT_VECTORS = {\"U\": 1j, \"D\": -1j, \"L\": -1, \"R\": 1}\n",
    "\n",
    "def move_tail(moves: list, length: int): \n",
    "    rope = [0j] * length \n",
    "    tail_positions = set() \n",
    "    for direction, steps in moves: \n",
    "        for _ in range(int(steps)): \n",
    "            rope[0] += UNIT_VECTORS[direction] \n",
    "            for n in range(1, len(rope)): \n",
    "                diff = rope[n - 1] - rope[n] \n",
    "                if abs(diff) > sqrt(2): \n",
    "                    if diff.real != 0: \n",
    "                        rope[n] += diff.real / abs(diff.real) \n",
    "                    if diff.imag != 0: \n",
    "                        rope[n] += complex(0, diff.imag) / abs(diff.imag) \n",
    "            tail_positions.add(rope[-1]) \n",
    "    return tail_positions\n",
    "\n",
    "with open(\"input9.txt\") as f: \n",
    "    moves = [l.split() for l in f.read().splitlines()]\n",
    "\n",
    "# PART 1\n",
    "print(len(move_tail(moves, 2))) #3196\n",
    "\n",
    "# PART 2\n",
    "print(len(move_tail(moves, 10))) #3196"
   ]
  },
  {
   "cell_type": "markdown",
   "id": "d8ab56b7",
   "metadata": {
    "heading_collapsed": true
   },
   "source": [
    "# --- Day 10: Cathode-Ray Tube ---"
   ]
  },
  {
   "cell_type": "code",
   "execution_count": 39,
   "id": "25094353",
   "metadata": {
    "ExecuteTime": {
     "end_time": "2023-01-04T06:35:15.588422Z",
     "start_time": "2023-01-04T06:35:15.567877Z"
    },
    "hidden": true
   },
   "outputs": [
    {
     "data": {
      "text/plain": [
       "'addx 1\\naddx 5\\nnoop\\naddx -1\\nnoop\\naddx 3\\naddx 29\\naddx -1\\naddx -21\\naddx 5\\nnoop\\naddx -20\\naddx 21\\naddx 2\\n'"
      ]
     },
     "execution_count": 39,
     "metadata": {},
     "output_type": "execute_result"
    }
   ],
   "source": [
    "# part 1\n",
    "\n",
    "file=\"input10.txt\"\n",
    "with open(file) as f:\n",
    "    input_str=f.read()\n",
    "input_str[:100]"
   ]
  },
  {
   "cell_type": "code",
   "execution_count": 41,
   "id": "6a849554",
   "metadata": {
    "ExecuteTime": {
     "end_time": "2023-01-04T06:35:24.213540Z",
     "start_time": "2023-01-04T06:35:24.201143Z"
    },
    "hidden": true
   },
   "outputs": [
    {
     "data": {
      "text/plain": [
       "[[2, 1],\n",
       " [2, 5],\n",
       " [1, 0],\n",
       " [2, -1],\n",
       " [1, 0],\n",
       " [2, 3],\n",
       " [2, 29],\n",
       " [2, -1],\n",
       " [2, -21],\n",
       " [2, 5],\n",
       " [1, 0],\n",
       " [2, -20],\n",
       " [2, 21],\n",
       " [2, 2],\n",
       " [2, 8]]"
      ]
     },
     "execution_count": 41,
     "metadata": {},
     "output_type": "execute_result"
    }
   ],
   "source": [
    "ops=input_str.split(\"\\n\")[:-1]\n",
    "\n",
    "def parse_op(op):\n",
    "    #print(op, len(op.split()))\n",
    "    if len(op.split())==1:\n",
    "        op=[1,0]\n",
    "    else:\n",
    "        op=[2, int(op.split()[1])]\n",
    "    return op\n",
    "        \n",
    "\n",
    "ops=[parse_op(op) for op in ops]\n",
    "ops[:15]\n"
   ]
  },
  {
   "cell_type": "code",
   "execution_count": 42,
   "id": "181cd545",
   "metadata": {
    "ExecuteTime": {
     "end_time": "2023-01-04T06:35:36.928317Z",
     "start_time": "2023-01-04T06:35:36.921088Z"
    },
    "hidden": true
   },
   "outputs": [],
   "source": [
    "stops=[20, 60, 100, 140,180, 220]\n",
    "X=1\n",
    "cycle=1\n",
    "draws={}\n",
    "    \n",
    "def check_stops(cycle, stops, X):\n",
    "    if cycle in stops:\n",
    "        draws[cycle]=X        \n",
    "        \n",
    "\n",
    "for op in ops:\n",
    "    #print(f\"cycle:{cycle}, op:{op}, X:{X}\")\n",
    "    for i in range(op[0]):\n",
    "        #print(i)\n",
    "        check_stops(cycle, stops, X)\n",
    "        cycle+=1\n",
    "    X+=op[1]"
   ]
  },
  {
   "cell_type": "code",
   "execution_count": 8,
   "id": "878ecdd5",
   "metadata": {
    "ExecuteTime": {
     "end_time": "2023-01-03T20:31:55.768287Z",
     "start_time": "2023-01-03T20:31:55.759048Z"
    },
    "hidden": true
   },
   "outputs": [
    {
     "data": {
      "text/plain": [
       "{20: 21, 60: 17, 100: 21, 140: 17, 180: 21, 220: 37}"
      ]
     },
     "execution_count": 8,
     "metadata": {},
     "output_type": "execute_result"
    }
   ],
   "source": [
    "draws"
   ]
  },
  {
   "cell_type": "code",
   "execution_count": 10,
   "id": "ee5c3747",
   "metadata": {
    "ExecuteTime": {
     "end_time": "2023-01-03T20:32:10.847031Z",
     "start_time": "2023-01-03T20:32:10.839585Z"
    },
    "hidden": true
   },
   "outputs": [
    {
     "data": {
      "text/plain": [
       "17840"
      ]
     },
     "execution_count": 10,
     "metadata": {},
     "output_type": "execute_result"
    }
   ],
   "source": [
    "sum([k * v for (k, v) in draws.items()]) #17840"
   ]
  },
  {
   "cell_type": "code",
   "execution_count": 43,
   "id": "02effa0e",
   "metadata": {
    "ExecuteTime": {
     "end_time": "2023-01-04T06:36:10.104021Z",
     "start_time": "2023-01-04T06:36:10.093617Z"
    },
    "hidden": true
   },
   "outputs": [],
   "source": [
    "# part 2\n",
    "\n",
    "X=1\n",
    "cycle=1\n",
    "draws={}\n",
    "CRT_position=0\n",
    "lights=\"\"\n",
    "\n",
    "for op in ops:\n",
    "    #print(f\"Start cycle   {cycle}, begin executing op:{op}, X:{X}\")\n",
    "    for i in range(op[0]):\n",
    "        #print(f\"During cycle {cycle}: CRT draws pixel in position {CRT_position}\")\n",
    "        if X%40 > CRT_position+1 or X%40 < CRT_position-1:\n",
    "            lights+='.'\n",
    "        else:\n",
    "            lights+=\"#\"\n",
    "        cycle+=1\n",
    "        \n",
    "        CRT_position+=1\n",
    "        if CRT_position==40:\n",
    "            lights+=\"\\n\"\n",
    "        CRT_position=CRT_position%40\n",
    "\n",
    "        #print(lights+\"\\n\")\n",
    "    X+=op[1]"
   ]
  },
  {
   "cell_type": "code",
   "execution_count": 57,
   "id": "87b82c0e",
   "metadata": {
    "ExecuteTime": {
     "end_time": "2023-01-03T20:53:22.018079Z",
     "start_time": "2023-01-03T20:53:22.004403Z"
    },
    "hidden": true
   },
   "outputs": [
    {
     "data": {
      "text/plain": [
       "40"
      ]
     },
     "execution_count": 57,
     "metadata": {},
     "output_type": "execute_result"
    }
   ],
   "source": [
    "i=0\n",
    "len(lights.splitlines()[i])"
   ]
  },
  {
   "cell_type": "code",
   "execution_count": 59,
   "id": "10b59dd2",
   "metadata": {
    "ExecuteTime": {
     "end_time": "2023-01-03T20:54:51.266948Z",
     "start_time": "2023-01-03T20:54:51.261406Z"
    },
    "hidden": true
   },
   "outputs": [
    {
     "name": "stdout",
     "output_type": "stream",
     "text": [
      "####..##..#.....##..#..#.#....###...##.#\n",
      ".....#..#.#....#..#.#..#.#....#..#.#..#.\n",
      "###..#..#.#....#....#..#.#....#..#.#..##\n",
      ".....####.#....#.##.#..#.#....###..#.###\n",
      ".....#..#.#....#..#.#..#.#....#....#..#.\n",
      "####.#..#.####..###..##..####.#.....###.\n"
     ]
    }
   ],
   "source": [
    "for line in lights.splitlines():\n",
    "    print(line)\n"
   ]
  }
 ],
 "metadata": {
  "kernelspec": {
   "display_name": "Python 3 (ipykernel)",
   "language": "python",
   "name": "python3"
  },
  "language_info": {
   "codemirror_mode": {
    "name": "ipython",
    "version": 3
   },
   "file_extension": ".py",
   "mimetype": "text/x-python",
   "name": "python",
   "nbconvert_exporter": "python",
   "pygments_lexer": "ipython3",
   "version": "3.8.12"
  },
  "toc": {
   "base_numbering": 1,
   "nav_menu": {},
   "number_sections": false,
   "sideBar": true,
   "skip_h1_title": false,
   "title_cell": "Table of Contents",
   "title_sidebar": "Contents",
   "toc_cell": false,
   "toc_position": {},
   "toc_section_display": true,
   "toc_window_display": true
  }
 },
 "nbformat": 4,
 "nbformat_minor": 5
}
