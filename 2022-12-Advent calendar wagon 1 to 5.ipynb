{
 "cells": [
  {
   "cell_type": "markdown",
   "id": "a512de68",
   "metadata": {},
   "source": [
    "https://adventofcode.com/2022/"
   ]
  },
  {
   "cell_type": "code",
   "execution_count": 1,
   "id": "86b46b6b",
   "metadata": {
    "ExecuteTime": {
     "end_time": "2022-12-24T08:29:50.132291Z",
     "start_time": "2022-12-24T08:29:48.836380Z"
    }
   },
   "outputs": [],
   "source": [
    "import pandas as pd"
   ]
  },
  {
   "cell_type": "markdown",
   "id": "f0bbc478",
   "metadata": {
    "heading_collapsed": true
   },
   "source": [
    "# --- Day 1: Calorie Counting ---"
   ]
  },
  {
   "cell_type": "markdown",
   "id": "2c20a355",
   "metadata": {
    "hidden": true
   },
   "source": [
    "## Part 1: Find the Elf carrying the most Calories. How many total Calories is that Elf carrying?"
   ]
  },
  {
   "cell_type": "code",
   "execution_count": 47,
   "id": "7060c69d",
   "metadata": {
    "ExecuteTime": {
     "end_time": "2022-12-11T07:04:34.295561Z",
     "start_time": "2022-12-11T07:04:34.288690Z"
    },
    "hidden": true
   },
   "outputs": [],
   "source": [
    "file= \"input1.txt\"\n",
    "\n",
    "with open(file) as f:\n",
    "    input_str = f.read()"
   ]
  },
  {
   "cell_type": "code",
   "execution_count": 48,
   "id": "20c59e07",
   "metadata": {
    "ExecuteTime": {
     "end_time": "2022-12-11T07:04:34.651495Z",
     "start_time": "2022-12-11T07:04:34.648499Z"
    },
    "hidden": true
   },
   "outputs": [],
   "source": [
    "by_elves = input_str.split(\"\\n\\n\")"
   ]
  },
  {
   "cell_type": "code",
   "execution_count": 49,
   "id": "1fe053ac",
   "metadata": {
    "ExecuteTime": {
     "end_time": "2022-12-11T07:04:35.123669Z",
     "start_time": "2022-12-11T07:04:35.115819Z"
    },
    "hidden": true
   },
   "outputs": [],
   "source": [
    "elves_food= {}\n",
    "for i in range(len(by_elves)):\n",
    "    elves_food[i] = by_elves[i].split(\"\\n\")\n",
    "    if '' in elves_food[i]: \n",
    "        elves_food[i].remove('')\n",
    "    elves_food[i] = [int(food) for food in elves_food[i]]"
   ]
  },
  {
   "cell_type": "code",
   "execution_count": 50,
   "id": "fd64cd83",
   "metadata": {
    "ExecuteTime": {
     "end_time": "2022-12-11T07:04:35.320046Z",
     "start_time": "2022-12-11T07:04:35.314102Z"
    },
    "hidden": true
   },
   "outputs": [],
   "source": [
    "for key, val in elves_food.items():\n",
    "    elves_food [key] = (sum(val), val)"
   ]
  },
  {
   "cell_type": "code",
   "execution_count": 51,
   "id": "6c2778c4",
   "metadata": {
    "ExecuteTime": {
     "end_time": "2022-12-11T07:04:35.731971Z",
     "start_time": "2022-12-11T07:04:35.727094Z"
    },
    "hidden": true
   },
   "outputs": [],
   "source": [
    "richest_elf = max(elves_food, key=lambda x: elves_food[x][0])"
   ]
  },
  {
   "cell_type": "code",
   "execution_count": 52,
   "id": "858f8974",
   "metadata": {
    "ExecuteTime": {
     "end_time": "2022-12-11T07:04:36.151798Z",
     "start_time": "2022-12-11T07:04:36.143572Z"
    },
    "hidden": true
   },
   "outputs": [],
   "source": [
    "output = elves_food[richest_elf][0]"
   ]
  },
  {
   "cell_type": "code",
   "execution_count": 53,
   "id": "0d560d52",
   "metadata": {
    "ExecuteTime": {
     "end_time": "2022-12-11T07:04:36.279304Z",
     "start_time": "2022-12-11T07:04:36.267357Z"
    },
    "hidden": true
   },
   "outputs": [
    {
     "data": {
      "text/plain": [
       "72718"
      ]
     },
     "execution_count": 53,
     "metadata": {},
     "output_type": "execute_result"
    }
   ],
   "source": [
    "output #72718"
   ]
  },
  {
   "cell_type": "markdown",
   "id": "800a4e45",
   "metadata": {
    "hidden": true
   },
   "source": [
    "## Part 2: Find the top three Elves carrying the most Calories. How many Calories are those Elves carrying in total?"
   ]
  },
  {
   "cell_type": "code",
   "execution_count": 54,
   "id": "f88c5ea9",
   "metadata": {
    "ExecuteTime": {
     "end_time": "2022-12-11T07:04:37.200615Z",
     "start_time": "2022-12-11T07:04:37.185321Z"
    },
    "hidden": true
   },
   "outputs": [],
   "source": [
    "leaderboard = [(elf, cals[0]) for elf, cals in elves_food.items()] #(id, calories)\n",
    "leaderboard.sort(key=lambda x: x[1], reverse=True)"
   ]
  },
  {
   "cell_type": "code",
   "execution_count": 55,
   "id": "90e68955",
   "metadata": {
    "ExecuteTime": {
     "end_time": "2022-12-11T07:04:37.364722Z",
     "start_time": "2022-12-11T07:04:37.348035Z"
    },
    "hidden": true
   },
   "outputs": [
    {
     "data": {
      "text/plain": [
       "213089"
      ]
     },
     "execution_count": 55,
     "metadata": {},
     "output_type": "execute_result"
    }
   ],
   "source": [
    "output = sum([leaderboard[i][1] for i in range(3)])\n",
    "output #213089"
   ]
  },
  {
   "cell_type": "markdown",
   "id": "a4a763f9",
   "metadata": {
    "heading_collapsed": true
   },
   "source": [
    "# --- Day 2: Rock Paper Scissors ---"
   ]
  },
  {
   "cell_type": "markdown",
   "id": "380c1ef2",
   "metadata": {
    "hidden": true
   },
   "source": [
    "## Part 1"
   ]
  },
  {
   "cell_type": "code",
   "execution_count": 56,
   "id": "dbc46c6c",
   "metadata": {
    "ExecuteTime": {
     "end_time": "2022-12-11T07:04:38.362853Z",
     "start_time": "2022-12-11T07:04:37.821920Z"
    },
    "hidden": true
   },
   "outputs": [
    {
     "name": "stdout",
     "output_type": "stream",
     "text": [
      "  % Total    % Received % Xferd  Average Speed   Time    Time     Time  Current\n",
      "                                 Dload  Upload   Total   Spent    Left  Speed\n",
      "100    71    0    71    0     0    182      0 --:--:-- --:--:-- --:--:--   190\n"
     ]
    }
   ],
   "source": [
    "url = \"https://adventofcode.com/2022/day/2/input\"\n",
    "\n",
    "!curl \"https://adventofcode.com/2022/day/2/input\" >> input.txt \n",
    "# \" inputs differ by user. Please log in to get your input\""
   ]
  },
  {
   "cell_type": "code",
   "execution_count": 57,
   "id": "60aac0bc",
   "metadata": {
    "ExecuteTime": {
     "end_time": "2022-12-11T07:04:38.374870Z",
     "start_time": "2022-12-11T07:04:38.368661Z"
    },
    "hidden": true
   },
   "outputs": [],
   "source": [
    "file= \"input2.txt\"\n",
    "\n",
    "with open(file) as f:\n",
    "    input_str = f.read()"
   ]
  },
  {
   "cell_type": "code",
   "execution_count": 58,
   "id": "2913d91c",
   "metadata": {
    "ExecuteTime": {
     "end_time": "2022-12-11T07:04:38.390993Z",
     "start_time": "2022-12-11T07:04:38.379677Z"
    },
    "hidden": true
   },
   "outputs": [],
   "source": [
    "strategy_guide = [x.split(\" \") for x in input_str.split(\"\\n\")][:-1] # last is ''"
   ]
  },
  {
   "cell_type": "code",
   "execution_count": 59,
   "id": "aeb7613f",
   "metadata": {
    "ExecuteTime": {
     "end_time": "2022-12-11T07:04:38.415643Z",
     "start_time": "2022-12-11T07:04:38.401983Z"
    },
    "hidden": true
   },
   "outputs": [],
   "source": [
    "# shape you selected (1 for Rock, 2 for Paper, and 3 for Scissors)\n",
    "\n",
    "wins_over = {'Rock':'Scissors', 'Scissors': 'Paper', 'Paper': 'Rock'}\n",
    "\n",
    "theirs_code={'A':'Rock','B':'Paper', 'C':'Scissors'}\n",
    "mine_code={'X':'Rock','Y':'Paper', 'Z':'Scissors'}\n",
    "\n",
    "shape_scores = {'Rock': 1, 'Paper':2, 'Scissors':3}\n",
    "win_scores={'me':6, 'opponent':0, 'draw':3}\n",
    "\n",
    "def who_wins (l):\n",
    "    # l of form (['A', 'Z'])\n",
    "    opponent = theirs_code[l[0]]\n",
    "    mine = mine_code[l[1]]\n",
    "    if wins_over[mine] == opponent:\n",
    "        return 'me'\n",
    "    if wins_over[opponent] == mine:\n",
    "        return 'opponent'\n",
    "    if opponent == mine:\n",
    "        return 'draw'\n",
    "    print(\"malformed input\")\n",
    "    pass\n",
    "    \n",
    "    \n",
    "def compute_outcomes(l):\n",
    "    # l of form (['A', 'Z'])\n",
    "    # print(l)\n",
    "    # print(f\"mine: {mine_code[l[1]]}\")\n",
    "    move_score = shape_scores[mine_code[l[1]]]\n",
    "    game_score = win_scores[who_wins(l)]\n",
    "    return move_score + game_score\n",
    "\n",
    "#who_wins(['A', 'Z'])\n",
    "#compute_outcomes(['A', 'Z'])\n",
    " "
   ]
  },
  {
   "cell_type": "code",
   "execution_count": 60,
   "id": "41940ae0",
   "metadata": {
    "ExecuteTime": {
     "end_time": "2022-12-11T07:04:38.431253Z",
     "start_time": "2022-12-11T07:04:38.422866Z"
    },
    "hidden": true
   },
   "outputs": [],
   "source": [
    "output = sum([compute_outcomes(turn) for turn in strategy_guide]) #11386"
   ]
  },
  {
   "cell_type": "markdown",
   "id": "fba68b50",
   "metadata": {
    "hidden": true
   },
   "source": [
    "## --- Part Two ---\n",
    "The Elf finishes helping with the tent and sneaks back over to you. \"Anyway, the second column says how the round needs to end: X means you need to lose, Y means you need to end the round in a draw, and Z means you need to win."
   ]
  },
  {
   "cell_type": "code",
   "execution_count": 61,
   "id": "d4ac8ca3",
   "metadata": {
    "ExecuteTime": {
     "end_time": "2022-12-11T07:04:38.616156Z",
     "start_time": "2022-12-11T07:04:38.607032Z"
    },
    "hidden": true
   },
   "outputs": [],
   "source": [
    "# shape you selected (1 for Rock, 2 for Paper, and 3 for Scissors)\n",
    "\n",
    "wins_over = {'Rock':'Scissors', 'Scissors': 'Paper', 'Paper': 'Rock'}\n",
    "\n",
    "theirs_code={'A':'Rock','B':'Paper', 'C':'Scissors'}\n",
    "\n",
    "shape_scores = {'Rock': 1, 'Paper':2, 'Scissors':3}\n",
    "win_scores={'me':6, 'opponent':0, 'draw':3}\n",
    "\n",
    "# new\n",
    "my_target_score_code={'X':0,'Y':3, 'Z':6} # based on win_scores\n",
    "\n",
    "\n",
    "def who_wins (l):\n",
    "    # l now of form (['Paper', 'Rock'])\n",
    "    opponent = l[0]\n",
    "    mine = l[1]\n",
    "\n",
    "    if wins_over[mine] == opponent:\n",
    "        winner = 'me'\n",
    "    if wins_over[opponent] == mine:\n",
    "        winner = 'opponent'\n",
    "    if opponent == mine:\n",
    "        winner = 'draw'\n",
    "    #if winner: \n",
    "        #print(f\"in who_wins, Opponent plays {l[0]}, I play {l[1]} and this should mean the winner is:{winner}\")\n",
    "    #else: print(\"weird 🥸\")\n",
    "    return winner\n",
    "    \n",
    "    \n",
    "def compute_game_score(l): # changed\n",
    "    # l now of form (['Scissors', 'Rock'])\n",
    "    #print(l)\n",
    "    # print(f\"mine: {mine_code[l[1]]}\")\n",
    "    game_score = win_scores[who_wins(l)]\n",
    "    return game_score"
   ]
  },
  {
   "cell_type": "code",
   "execution_count": 62,
   "id": "040fa2be",
   "metadata": {
    "ExecuteTime": {
     "end_time": "2022-12-11T07:04:38.793915Z",
     "start_time": "2022-12-11T07:04:38.786930Z"
    },
    "hidden": true
   },
   "outputs": [],
   "source": [
    "\n",
    "def what_should_I_play(l):\n",
    "    # l of form (['A', 'Z'])\n",
    "    opponent = theirs_code[l[0]]\n",
    "    target_score = my_target_score_code[l[1]]\n",
    "    #print(f\"my opponent plays {opponent} and I aim at score {target_score}\")\n",
    "    \n",
    "    for choice in mine_code.values():\n",
    "        #print(f\"choice: {choice}\")\n",
    "        score = compute_game_score([opponent, choice])\n",
    "        #print(f\"score: {score}\")\n",
    "        if compute_game_score([opponent, choice]) == target_score:\n",
    "            #print(f\"this is it! I play {choice}\")\n",
    "            return choice\n",
    "    pass\n",
    "\n",
    "def compute_outcomes(l):\n",
    "    # l of form (['A', 'Z'])\n",
    "    # print(l)\n",
    "    # print(f\"mine: {mine_code[l[1]]}\")\n",
    "    mine = what_should_I_play(l)\n",
    "    move_score = shape_scores[mine]\n",
    "    game_score = my_target_score_code[l[1]]\n",
    "    return move_score + game_score\n"
   ]
  },
  {
   "cell_type": "code",
   "execution_count": 63,
   "id": "554e2029",
   "metadata": {
    "ExecuteTime": {
     "end_time": "2022-12-11T07:04:38.941562Z",
     "start_time": "2022-12-11T07:04:38.911288Z"
    },
    "hidden": true
   },
   "outputs": [],
   "source": [
    "output = sum([compute_outcomes(turn) for turn in strategy_guide]) # 13600"
   ]
  },
  {
   "cell_type": "markdown",
   "id": "63cd4cb5",
   "metadata": {
    "heading_collapsed": true
   },
   "source": [
    "# --- Day 3: Rucksack Reorganization ---"
   ]
  },
  {
   "cell_type": "markdown",
   "id": "eeb51889",
   "metadata": {
    "hidden": true
   },
   "source": [
    "## Part 1"
   ]
  },
  {
   "cell_type": "code",
   "execution_count": 64,
   "id": "32ce4b02",
   "metadata": {
    "ExecuteTime": {
     "end_time": "2022-12-11T07:04:39.408802Z",
     "start_time": "2022-12-11T07:04:39.390252Z"
    },
    "hidden": true
   },
   "outputs": [],
   "source": [
    "file = \"input3.txt\"\n",
    "with open(file) as f:\n",
    "    input_str = f.read()"
   ]
  },
  {
   "cell_type": "code",
   "execution_count": 65,
   "id": "3ca890f4",
   "metadata": {
    "ExecuteTime": {
     "end_time": "2022-12-11T07:04:39.529657Z",
     "start_time": "2022-12-11T07:04:39.504285Z"
    },
    "collapsed": true,
    "hidden": true
   },
   "outputs": [
    {
     "data": {
      "text/plain": [
       "['c',\n",
       " 'q',\n",
       " 's',\n",
       " 't',\n",
       " 'r',\n",
       " 'W',\n",
       " 'l',\n",
       " 'C',\n",
       " 'V',\n",
       " 'J',\n",
       " 'L',\n",
       " 'g',\n",
       " 'N',\n",
       " 'r',\n",
       " 'b',\n",
       " 'f',\n",
       " 'R',\n",
       " 'g',\n",
       " 'z',\n",
       " 'c',\n",
       " 'g',\n",
       " 'T',\n",
       " 'f',\n",
       " 'G',\n",
       " 'z',\n",
       " 'C',\n",
       " 'L',\n",
       " 'z',\n",
       " 'p',\n",
       " 'V',\n",
       " 'h',\n",
       " 's',\n",
       " 'Z',\n",
       " 'P',\n",
       " 'N',\n",
       " 'l',\n",
       " 'C',\n",
       " 'h',\n",
       " 'S',\n",
       " 'b',\n",
       " 'Z',\n",
       " 'J',\n",
       " 'G',\n",
       " 'v',\n",
       " 'n',\n",
       " 'm',\n",
       " 'J',\n",
       " 's',\n",
       " 'T',\n",
       " 't',\n",
       " 'W',\n",
       " 'b',\n",
       " 'T',\n",
       " 'n',\n",
       " 'w',\n",
       " 'z',\n",
       " 'n',\n",
       " 'C',\n",
       " 'c',\n",
       " 'W',\n",
       " 'h',\n",
       " 'D',\n",
       " 'B',\n",
       " 'T',\n",
       " 'b',\n",
       " 'q',\n",
       " 'C',\n",
       " 'D',\n",
       " 'Q',\n",
       " 'j',\n",
       " 'r',\n",
       " 'L',\n",
       " 'Z',\n",
       " 'c',\n",
       " 'm',\n",
       " 'v',\n",
       " 'g',\n",
       " 'f',\n",
       " 'B',\n",
       " 'P',\n",
       " 'n',\n",
       " 'Z',\n",
       " 'J',\n",
       " 'S',\n",
       " 'g',\n",
       " 'r',\n",
       " 'c',\n",
       " 'l',\n",
       " 'V',\n",
       " 'D',\n",
       " 'B',\n",
       " 'v',\n",
       " 'M',\n",
       " 'S',\n",
       " 'q',\n",
       " 'v',\n",
       " 'p',\n",
       " 'D',\n",
       " 't',\n",
       " 'D',\n",
       " 'P',\n",
       " 'J',\n",
       " 'g',\n",
       " 'L',\n",
       " 'l',\n",
       " 'H',\n",
       " 'g',\n",
       " 'L',\n",
       " 'g',\n",
       " 'b',\n",
       " 'R',\n",
       " 'j',\n",
       " 'h',\n",
       " 'M',\n",
       " 'p',\n",
       " 'H',\n",
       " 'l',\n",
       " 'f',\n",
       " 'z',\n",
       " 'Q',\n",
       " 'v',\n",
       " 'T',\n",
       " 'r',\n",
       " 'B',\n",
       " 'L',\n",
       " 't',\n",
       " 'n',\n",
       " 'd',\n",
       " 'C',\n",
       " 'z',\n",
       " 'c',\n",
       " 'N',\n",
       " 'Z',\n",
       " 'h',\n",
       " 'G',\n",
       " 'T',\n",
       " 'd',\n",
       " 'V',\n",
       " 'N',\n",
       " 'r',\n",
       " 'd',\n",
       " 'Z',\n",
       " 'p',\n",
       " 'c',\n",
       " 'J',\n",
       " 'l',\n",
       " 'H',\n",
       " 'M',\n",
       " 'd',\n",
       " 'B',\n",
       " 'p',\n",
       " 'V',\n",
       " 's',\n",
       " 'p',\n",
       " 'C',\n",
       " 'R',\n",
       " 'h',\n",
       " 'p',\n",
       " 'n',\n",
       " 'm',\n",
       " 'P',\n",
       " 'v',\n",
       " 't',\n",
       " 'W',\n",
       " 'H',\n",
       " 'z',\n",
       " 'W',\n",
       " 'd',\n",
       " 'b',\n",
       " 'H',\n",
       " 'D',\n",
       " 't',\n",
       " 'V',\n",
       " 'r',\n",
       " 'H',\n",
       " 'g',\n",
       " 'F',\n",
       " 's',\n",
       " 'S',\n",
       " 'R',\n",
       " 'Q',\n",
       " 'g',\n",
       " 's',\n",
       " 'J',\n",
       " 'm',\n",
       " 'j',\n",
       " 'g',\n",
       " 'P',\n",
       " 'Q',\n",
       " 'L',\n",
       " 'r',\n",
       " 'v',\n",
       " 'j',\n",
       " 'r',\n",
       " 'l',\n",
       " 'P',\n",
       " 'M',\n",
       " 'f',\n",
       " 't',\n",
       " 'f',\n",
       " 's',\n",
       " 'P',\n",
       " 'S',\n",
       " 'G',\n",
       " 'N',\n",
       " 'Z',\n",
       " 'w',\n",
       " 'C',\n",
       " 'R',\n",
       " 'l',\n",
       " 'J',\n",
       " 'C',\n",
       " 't',\n",
       " 'B',\n",
       " 'b',\n",
       " 'h',\n",
       " 'Q',\n",
       " 't',\n",
       " 'n',\n",
       " 'B',\n",
       " 'M',\n",
       " 'J',\n",
       " 'C',\n",
       " 'd',\n",
       " 'S',\n",
       " 'L',\n",
       " 'g',\n",
       " 'C',\n",
       " 'b',\n",
       " 'M',\n",
       " 'P',\n",
       " 'B',\n",
       " 'D',\n",
       " 'G',\n",
       " 'h',\n",
       " 'D',\n",
       " 'W',\n",
       " 'D',\n",
       " 'T',\n",
       " 'P',\n",
       " 't',\n",
       " 'N',\n",
       " 'H',\n",
       " 'F',\n",
       " 'g',\n",
       " 'M',\n",
       " 'r',\n",
       " 'P',\n",
       " 'B',\n",
       " 'B',\n",
       " 'Z',\n",
       " 'z',\n",
       " 'p',\n",
       " 'j',\n",
       " 'F',\n",
       " 'H',\n",
       " 'b',\n",
       " 'r',\n",
       " 'm',\n",
       " 'T',\n",
       " 'D',\n",
       " 'c',\n",
       " 'w',\n",
       " 'l',\n",
       " 'M',\n",
       " 'V',\n",
       " 'z',\n",
       " 'J',\n",
       " 's',\n",
       " 'L',\n",
       " 'b',\n",
       " 'H',\n",
       " 'L',\n",
       " 'T',\n",
       " 'L',\n",
       " 'J',\n",
       " 'j',\n",
       " 'J',\n",
       " 'r',\n",
       " 'b',\n",
       " 'c',\n",
       " 'H',\n",
       " 'L',\n",
       " 'V',\n",
       " 'J',\n",
       " 'b',\n",
       " 'S',\n",
       " 'V',\n",
       " 'h',\n",
       " 't',\n",
       " 's',\n",
       " 'Q',\n",
       " 'z',\n",
       " 'R',\n",
       " 'D',\n",
       " 'Z',\n",
       " 'g',\n",
       " 'H',\n",
       " 'Q',\n",
       " 'T']"
      ]
     },
     "execution_count": 65,
     "metadata": {},
     "output_type": "execute_result"
    }
   ],
   "source": [
    "items_double = []\n",
    "for rucksack in input_str.split(\"\\n\")[:-1]:\n",
    "    first_pocket = rucksack[:int(len(rucksack)/2)]\n",
    "    second_pocket = rucksack[int(len(rucksack)/2):]\n",
    "    items_double+=(set([n for n in first_pocket if n in second_pocket]))\n",
    "items_double"
   ]
  },
  {
   "cell_type": "code",
   "execution_count": 66,
   "id": "54e64b9f",
   "metadata": {
    "ExecuteTime": {
     "end_time": "2022-12-11T07:04:39.647578Z",
     "start_time": "2022-12-11T07:04:39.643484Z"
    },
    "hidden": true
   },
   "outputs": [],
   "source": [
    "def priority(letter):\n",
    "    ord_letter = ord(letter)\n",
    "    if ord_letter>=96:\n",
    "        return ord_letter-96\n",
    "    else:\n",
    "        return ord_letter-64+26"
   ]
  },
  {
   "cell_type": "code",
   "execution_count": 67,
   "id": "ebb567df",
   "metadata": {
    "ExecuteTime": {
     "end_time": "2022-12-11T07:04:39.784028Z",
     "start_time": "2022-12-11T07:04:39.771900Z"
    },
    "hidden": true
   },
   "outputs": [
    {
     "data": {
      "text/plain": [
       "7875"
      ]
     },
     "execution_count": 67,
     "metadata": {},
     "output_type": "execute_result"
    }
   ],
   "source": [
    "sum([priority(letter) for letter in items_double]) #7875"
   ]
  },
  {
   "cell_type": "markdown",
   "id": "5d89048e",
   "metadata": {
    "hidden": true
   },
   "source": [
    "## Part 2\n"
   ]
  },
  {
   "cell_type": "code",
   "execution_count": 68,
   "id": "b19ea1f4",
   "metadata": {
    "ExecuteTime": {
     "end_time": "2022-12-11T07:04:40.091785Z",
     "start_time": "2022-12-11T07:04:40.085840Z"
    },
    "hidden": true
   },
   "outputs": [],
   "source": [
    "badges = []\n",
    "groups = input_str.split(\"\\n\")[:-1]\n",
    "for i in range(0,len(groups),3):\n",
    "    group = groups[i:i+3]\n",
    "    badges += set([item for item in group[0] if (item in group[1] and item in group[2])])\n"
   ]
  },
  {
   "cell_type": "code",
   "execution_count": 69,
   "id": "58a3e1c5",
   "metadata": {
    "ExecuteTime": {
     "end_time": "2022-12-11T07:04:40.265183Z",
     "start_time": "2022-12-11T07:04:40.256922Z"
    },
    "hidden": true
   },
   "outputs": [
    {
     "data": {
      "text/plain": [
       "2479"
      ]
     },
     "execution_count": 69,
     "metadata": {},
     "output_type": "execute_result"
    }
   ],
   "source": [
    "sum([priority(letter) for letter in badges]) #2479"
   ]
  },
  {
   "cell_type": "code",
   "execution_count": null,
   "id": "4308c0c5",
   "metadata": {
    "ExecuteTime": {
     "end_time": "2022-12-07T21:12:55.344174Z",
     "start_time": "2022-12-07T21:12:55.335331Z"
    },
    "hidden": true
   },
   "outputs": [],
   "source": []
  },
  {
   "cell_type": "code",
   "execution_count": 70,
   "id": "7473788b",
   "metadata": {
    "ExecuteTime": {
     "end_time": "2022-12-11T07:04:40.516055Z",
     "start_time": "2022-12-11T07:04:40.507536Z"
    },
    "hidden": true
   },
   "outputs": [
    {
     "data": {
      "text/plain": [
       "['RgbNmBbqgWHWRNRqHtcMlMwJJjcDtVlD',\n",
       " 'SzpFLGPddSGnnSLQZLtJJcclDlVjDQwMhDcc',\n",
       " 'LtTZCTttRqqqvqTN']"
      ]
     },
     "execution_count": 70,
     "metadata": {},
     "output_type": "execute_result"
    }
   ],
   "source": [
    "group"
   ]
  },
  {
   "cell_type": "markdown",
   "id": "740f1b08",
   "metadata": {
    "heading_collapsed": true
   },
   "source": [
    "# --- Day 4: Camp Cleanup ---"
   ]
  },
  {
   "cell_type": "markdown",
   "id": "030c905b",
   "metadata": {
    "hidden": true
   },
   "source": [
    "## Part 1 \n",
    "In how many assignment pairs does one range fully contain the other?"
   ]
  },
  {
   "cell_type": "code",
   "execution_count": 71,
   "id": "26325f7f",
   "metadata": {
    "ExecuteTime": {
     "end_time": "2022-12-11T07:04:40.962141Z",
     "start_time": "2022-12-11T07:04:40.956527Z"
    },
    "hidden": true
   },
   "outputs": [],
   "source": [
    "file = \"input4.txt\"\n",
    "with open(file) as f:\n",
    "    input_str = f.read()"
   ]
  },
  {
   "cell_type": "code",
   "execution_count": 72,
   "id": "7b08d980",
   "metadata": {
    "ExecuteTime": {
     "end_time": "2022-12-11T07:04:41.121033Z",
     "start_time": "2022-12-11T07:04:41.105093Z"
    },
    "hidden": true
   },
   "outputs": [
    {
     "name": "stdout",
     "output_type": "stream",
     "text": [
      "[(('2', '88'), ('13', '89'))]\n"
     ]
    }
   ],
   "source": [
    "import re\n",
    "\n",
    "pairs=[]\n",
    "for pair_str in input_str.split('\\n')[:-1]:\n",
    "    pattern = re.compile(\"(\\d*)-(\\d*),(\\d*)-(\\d*)\")\n",
    "    pair=re.search(pattern, pair_str)\n",
    "    pairs.append(((pair[1], pair[2]), (pair[3], pair[4])))\n",
    "    print(pairs)\n",
    "    break\n",
    "    #pairs.append()\n",
    "    "
   ]
  },
  {
   "cell_type": "code",
   "execution_count": 73,
   "id": "0089fb55",
   "metadata": {
    "ExecuteTime": {
     "end_time": "2022-12-11T07:04:41.258405Z",
     "start_time": "2022-12-11T07:04:41.242301Z"
    },
    "hidden": true
   },
   "outputs": [],
   "source": [
    "import re\n",
    "\n",
    "def extract_pair(pair_str):\n",
    "    pattern = re.compile(\"(\\d*)-(\\d*),(\\d*)-(\\d*)\")\n",
    "    pair=re.search(pattern, pair_str)\n",
    "    return((int(pair[1]), int(pair[2])), (int(pair[3]), int(pair[4])))\n",
    "\n",
    "pairs = [extract_pair(pair_str) for pair_str in input_str.split('\\n')[:-1]]"
   ]
  },
  {
   "cell_type": "code",
   "execution_count": 74,
   "id": "79027e56",
   "metadata": {
    "ExecuteTime": {
     "end_time": "2022-12-11T07:04:41.409143Z",
     "start_time": "2022-12-11T07:04:41.403778Z"
    },
    "hidden": true
   },
   "outputs": [],
   "source": [
    "def range_in_range(A, B): # A contains B\n",
    "    return (A[0] <= B[0]) & (A[1]>= B[1])"
   ]
  },
  {
   "cell_type": "code",
   "execution_count": 75,
   "id": "80d6f93b",
   "metadata": {
    "ExecuteTime": {
     "end_time": "2022-12-11T07:04:41.558614Z",
     "start_time": "2022-12-11T07:04:41.552398Z"
    },
    "hidden": true
   },
   "outputs": [],
   "source": [
    "contained_pairs = [pair for pair in pairs if range_in_range(pair[0], pair[1]) | range_in_range(pair[1], pair[0])]"
   ]
  },
  {
   "cell_type": "code",
   "execution_count": 76,
   "id": "04349342",
   "metadata": {
    "ExecuteTime": {
     "end_time": "2022-12-11T07:04:41.713347Z",
     "start_time": "2022-12-11T07:04:41.704166Z"
    },
    "hidden": true
   },
   "outputs": [
    {
     "data": {
      "text/plain": [
       "515"
      ]
     },
     "execution_count": 76,
     "metadata": {},
     "output_type": "execute_result"
    }
   ],
   "source": [
    "len(contained_pairs) #515"
   ]
  },
  {
   "cell_type": "markdown",
   "id": "4285f593",
   "metadata": {
    "hidden": true
   },
   "source": [
    "## --- Part Two ---\n"
   ]
  },
  {
   "cell_type": "markdown",
   "id": "c66b4e79",
   "metadata": {
    "hidden": true
   },
   "source": [
    "In how many assignment pairs do the ranges overlap?"
   ]
  },
  {
   "cell_type": "code",
   "execution_count": 77,
   "id": "0a8d2e0d",
   "metadata": {
    "ExecuteTime": {
     "end_time": "2022-12-11T07:04:42.317332Z",
     "start_time": "2022-12-11T07:04:42.180872Z"
    },
    "hidden": true
   },
   "outputs": [
    {
     "data": {
      "text/plain": [
       "[(((12, 94), (12, 94)), 83),\n",
       " (((34, 69), (34, 61)), 28),\n",
       " (((9, 76), (9, 9)), 1),\n",
       " (((6, 47), (6, 48)), 42),\n",
       " (((94, 94), (68, 94)), 1),\n",
       " (((40, 95), (40, 98)), 56),\n",
       " (((22, 81), (22, 22)), 1),\n",
       " (((7, 58), (7, 59)), 52),\n",
       " (((8, 82), (82, 82)), 1),\n",
       " (((11, 75), (11, 75)), 65),\n",
       " (((65, 89), (65, 66)), 2),\n",
       " (((41, 57), (27, 58)), 17),\n",
       " (((27, 34), (26, 75)), 8),\n",
       " (((21, 95), (21, 95)), 75),\n",
       " (((81, 81), (23, 90)), 1),\n",
       " (((47, 83), (47, 82)), 36),\n",
       " (((54, 92), (10, 93)), 39),\n",
       " (((72, 72), (42, 73)), 1),\n",
       " (((25, 26), (25, 64)), 2),\n",
       " (((38, 48), (38, 38)), 1),\n",
       " (((2, 99), (2, 99)), 98),\n",
       " (((48, 93), (67, 92)), 26),\n",
       " (((12, 85), (2, 94)), 74),\n",
       " (((14, 75), (7, 82)), 62),\n",
       " (((24, 91), (91, 91)), 1),\n",
       " (((25, 48), (44, 47)), 4),\n",
       " (((1, 58), (1, 21)), 21),\n",
       " (((16, 93), (16, 93)), 78),\n",
       " (((3, 99), (8, 98)), 91),\n",
       " (((23, 23), (6, 23)), 1),\n",
       " (((35, 41), (35, 40)), 6),\n",
       " (((11, 48), (11, 61)), 38),\n",
       " (((7, 90), (7, 8)), 2),\n",
       " (((1, 89), (6, 73)), 68),\n",
       " (((64, 69), (38, 70)), 6),\n",
       " (((26, 67), (59, 66)), 8),\n",
       " (((2, 99), (9, 96)), 88),\n",
       " (((17, 92), (12, 93)), 76),\n",
       " (((27, 56), (27, 28)), 2),\n",
       " (((1, 95), (94, 94)), 1),\n",
       " (((24, 48), (23, 95)), 25),\n",
       " (((40, 74), (74, 74)), 1),\n",
       " (((20, 99), (20, 97)), 78),\n",
       " (((23, 85), (23, 86)), 63),\n",
       " (((37, 69), (69, 69)), 1),\n",
       " (((7, 53), (7, 27)), 21),\n",
       " (((84, 97), (93, 94)), 2),\n",
       " (((12, 93), (13, 93)), 81),\n",
       " (((28, 86), (29, 29)), 1),\n",
       " (((27, 73), (53, 58)), 6),\n",
       " (((11, 17), (11, 28)), 7),\n",
       " (((99, 99), (13, 99)), 1),\n",
       " (((70, 92), (48, 92)), 23),\n",
       " (((50, 61), (50, 62)), 12),\n",
       " (((2, 95), (77, 94)), 18),\n",
       " (((17, 17), (17, 90)), 1),\n",
       " (((95, 95), (16, 95)), 1),\n",
       " (((28, 98), (28, 28)), 1),\n",
       " (((1, 95), (1, 19)), 19),\n",
       " (((86, 89), (22, 89)), 4),\n",
       " (((37, 96), (3, 96)), 60),\n",
       " (((57, 69), (57, 78)), 13),\n",
       " (((6, 96), (6, 6)), 1),\n",
       " (((44, 58), (5, 59)), 15),\n",
       " (((69, 69), (64, 69)), 1),\n",
       " (((68, 74), (67, 95)), 7),\n",
       " (((6, 88), (9, 85)), 77),\n",
       " (((47, 66), (47, 55)), 9),\n",
       " (((2, 95), (1, 95)), 94),\n",
       " (((36, 37), (36, 36)), 1),\n",
       " (((12, 90), (45, 68)), 24),\n",
       " (((1, 57), (38, 47)), 10),\n",
       " (((18, 75), (18, 94)), 58),\n",
       " (((39, 70), (39, 70)), 32),\n",
       " (((62, 93), (62, 62)), 1),\n",
       " (((54, 93), (6, 94)), 40),\n",
       " (((11, 90), (11, 90)), 80),\n",
       " (((92, 98), (96, 97)), 2),\n",
       " (((13, 73), (55, 69)), 15),\n",
       " (((47, 95), (46, 95)), 49),\n",
       " (((11, 97), (11, 99)), 87),\n",
       " (((53, 68), (53, 53)), 1),\n",
       " (((45, 89), (45, 46)), 2),\n",
       " (((6, 78), (6, 7)), 2),\n",
       " (((31, 67), (67, 67)), 1),\n",
       " (((96, 96), (48, 96)), 1),\n",
       " (((10, 60), (9, 61)), 51),\n",
       " (((38, 97), (78, 93)), 16),\n",
       " (((21, 72), (21, 33)), 13),\n",
       " (((24, 90), (89, 90)), 2),\n",
       " (((44, 58), (44, 68)), 15),\n",
       " (((11, 77), (12, 12)), 1),\n",
       " (((5, 73), (5, 74)), 69),\n",
       " (((10, 40), (10, 40)), 31),\n",
       " (((59, 94), (59, 93)), 35),\n",
       " (((84, 84), (84, 84)), 1),\n",
       " (((8, 8), (7, 75)), 1),\n",
       " (((20, 81), (20, 81)), 62),\n",
       " (((5, 63), (5, 6)), 2),\n",
       " (((2, 93), (2, 93)), 92),\n",
       " (((1, 95), (94, 94)), 1),\n",
       " (((11, 66), (10, 73)), 56),\n",
       " (((1, 92), (1, 95)), 92),\n",
       " (((76, 90), (76, 77)), 2),\n",
       " (((5, 70), (27, 70)), 44),\n",
       " (((3, 56), (6, 55)), 50),\n",
       " (((28, 37), (36, 37)), 2),\n",
       " (((54, 97), (54, 98)), 44),\n",
       " (((12, 26), (12, 12)), 1),\n",
       " (((42, 42), (3, 42)), 1),\n",
       " (((69, 70), (69, 77)), 2),\n",
       " (((25, 80), (25, 25)), 1),\n",
       " (((36, 55), (36, 54)), 19),\n",
       " (((6, 55), (8, 55)), 48),\n",
       " (((19, 20), (20, 20)), 1),\n",
       " (((9, 35), (8, 35)), 27),\n",
       " (((9, 75), (35, 75)), 41),\n",
       " (((7, 74), (3, 75)), 68),\n",
       " (((69, 78), (69, 79)), 10),\n",
       " (((3, 49), (1, 58)), 47),\n",
       " (((16, 58), (54, 57)), 4),\n",
       " (((73, 86), (73, 86)), 14),\n",
       " (((4, 15), (13, 14)), 2),\n",
       " (((6, 94), (6, 6)), 1),\n",
       " (((56, 81), (55, 81)), 26),\n",
       " (((3, 30), (3, 4)), 2),\n",
       " (((5, 94), (4, 96)), 90),\n",
       " (((5, 87), (42, 87)), 46),\n",
       " (((57, 97), (63, 96)), 34),\n",
       " (((1, 42), (1, 1)), 1),\n",
       " (((97, 97), (13, 97)), 1),\n",
       " (((79, 79), (76, 79)), 1),\n",
       " (((57, 76), (62, 68)), 7),\n",
       " (((20, 63), (20, 57)), 38),\n",
       " (((41, 70), (41, 70)), 30),\n",
       " (((37, 42), (27, 44)), 6),\n",
       " (((77, 98), (57, 99)), 22),\n",
       " (((10, 85), (10, 96)), 76),\n",
       " (((12, 29), (12, 80)), 18),\n",
       " (((20, 89), (22, 88)), 67),\n",
       " (((79, 88), (20, 88)), 10),\n",
       " (((98, 98), (3, 99)), 1),\n",
       " (((58, 80), (58, 66)), 9),\n",
       " (((27, 32), (25, 47)), 6),\n",
       " (((80, 91), (80, 95)), 12),\n",
       " (((24, 70), (24, 86)), 47),\n",
       " (((52, 60), (52, 62)), 9),\n",
       " (((80, 80), (16, 80)), 1),\n",
       " (((2, 80), (1, 99)), 79),\n",
       " (((34, 87), (34, 88)), 54),\n",
       " (((28, 30), (28, 32)), 3),\n",
       " (((13, 55), (7, 55)), 43),\n",
       " (((5, 97), (32, 96)), 65),\n",
       " (((71, 71), (51, 71)), 1),\n",
       " (((10, 21), (10, 11)), 2),\n",
       " (((26, 34), (1, 81)), 9),\n",
       " (((35, 49), (35, 50)), 15),\n",
       " (((11, 70), (10, 71)), 60),\n",
       " (((25, 72), (24, 99)), 48),\n",
       " (((27, 84), (71, 72)), 2),\n",
       " (((50, 72), (50, 71)), 22),\n",
       " (((11, 62), (11, 34)), 24),\n",
       " (((71, 71), (28, 71)), 1),\n",
       " (((72, 80), (65, 81)), 9),\n",
       " (((31, 79), (32, 79)), 48),\n",
       " (((12, 80), (12, 81)), 69),\n",
       " (((27, 98), (60, 97)), 38),\n",
       " (((52, 52), (30, 52)), 1),\n",
       " (((11, 97), (12, 14)), 3),\n",
       " (((3, 94), (1, 99)), 92),\n",
       " (((4, 23), (16, 22)), 7),\n",
       " (((14, 80), (14, 78)), 65),\n",
       " (((14, 50), (11, 66)), 37),\n",
       " (((5, 91), (4, 91)), 87),\n",
       " (((13, 13), (13, 94)), 1),\n",
       " (((40, 67), (40, 68)), 28),\n",
       " (((37, 49), (36, 49)), 13),\n",
       " (((50, 98), (50, 97)), 48),\n",
       " (((38, 39), (38, 80)), 2),\n",
       " (((83, 83), (2, 84)), 1),\n",
       " (((41, 94), (41, 96)), 54),\n",
       " (((22, 95), (22, 96)), 74),\n",
       " (((32, 77), (32, 77)), 46),\n",
       " (((22, 97), (23, 96)), 74),\n",
       " (((39, 85), (70, 84)), 15),\n",
       " (((4, 95), (3, 95)), 92),\n",
       " (((14, 39), (14, 38)), 25),\n",
       " (((4, 4), (3, 98)), 1),\n",
       " (((85, 89), (85, 99)), 5),\n",
       " (((7, 42), (7, 43)), 36),\n",
       " (((45, 53), (41, 54)), 9),\n",
       " (((38, 66), (37, 66)), 29),\n",
       " (((3, 3), (2, 3)), 1),\n",
       " (((47, 61), (42, 61)), 15),\n",
       " (((1, 51), (1, 51)), 51),\n",
       " (((71, 95), (82, 92)), 11),\n",
       " (((45, 91), (46, 91)), 46),\n",
       " (((12, 87), (13, 87)), 75),\n",
       " (((11, 92), (11, 46)), 36),\n",
       " (((3, 73), (3, 72)), 70),\n",
       " (((91, 91), (47, 92)), 1),\n",
       " (((10, 87), (11, 87)), 77),\n",
       " (((48, 71), (15, 97)), 24),\n",
       " (((20, 64), (19, 64)), 45),\n",
       " (((3, 57), (57, 57)), 1),\n",
       " (((68, 72), (69, 72)), 4),\n",
       " (((14, 45), (14, 14)), 1),\n",
       " (((22, 93), (22, 23)), 2),\n",
       " (((8, 34), (8, 15)), 8),\n",
       " (((11, 94), (12, 94)), 83),\n",
       " (((54, 84), (38, 85)), 31),\n",
       " (((32, 77), (39, 40)), 2),\n",
       " (((16, 28), (11, 29)), 13),\n",
       " (((1, 35), (2, 5)), 4),\n",
       " (((72, 72), (72, 93)), 1),\n",
       " (((5, 81), (5, 81)), 77),\n",
       " (((68, 89), (68, 89)), 22),\n",
       " (((30, 35), (30, 61)), 6),\n",
       " (((85, 94), (12, 94)), 10),\n",
       " (((15, 95), (15, 96)), 81),\n",
       " (((33, 84), (33, 92)), 52),\n",
       " (((44, 80), (44, 80)), 37),\n",
       " (((11, 84), (83, 83)), 1),\n",
       " (((3, 44), (21, 43)), 23),\n",
       " (((3, 92), (4, 55)), 52),\n",
       " (((26, 97), (80, 83)), 4),\n",
       " (((30, 92), (74, 92)), 19),\n",
       " (((11, 20), (11, 75)), 10),\n",
       " (((27, 27), (27, 47)), 1),\n",
       " (((27, 28), (27, 29)), 2),\n",
       " (((31, 95), (31, 31)), 1),\n",
       " (((19, 50), (21, 23)), 3),\n",
       " (((3, 70), (3, 70)), 68),\n",
       " (((37, 91), (37, 99)), 55),\n",
       " (((94, 94), (17, 94)), 1),\n",
       " (((1, 90), (89, 89)), 1),\n",
       " (((21, 32), (21, 73)), 12),\n",
       " (((65, 74), (65, 74)), 10),\n",
       " (((8, 47), (9, 47)), 39),\n",
       " (((79, 83), (24, 84)), 5),\n",
       " (((91, 91), (16, 92)), 1),\n",
       " (((14, 84), (14, 15)), 2),\n",
       " (((29, 55), (29, 43)), 15),\n",
       " (((36, 37), (36, 77)), 2),\n",
       " (((84, 84), (60, 89)), 1),\n",
       " (((66, 88), (14, 89)), 23),\n",
       " (((85, 89), (89, 89)), 1),\n",
       " (((1, 78), (2, 78)), 77),\n",
       " (((44, 52), (42, 53)), 9),\n",
       " (((55, 97), (55, 97)), 43),\n",
       " (((32, 81), (74, 80)), 7),\n",
       " (((5, 93), (6, 93)), 88),\n",
       " (((61, 96), (61, 99)), 36),\n",
       " (((17, 87), (17, 86)), 70),\n",
       " (((73, 80), (73, 77)), 5),\n",
       " (((96, 96), (76, 97)), 1),\n",
       " (((23, 32), (23, 31)), 9),\n",
       " (((4, 15), (5, 15)), 11),\n",
       " (((24, 76), (25, 75)), 51),\n",
       " (((43, 59), (33, 60)), 17),\n",
       " (((66, 74), (66, 68)), 3),\n",
       " (((45, 66), (45, 67)), 22),\n",
       " (((67, 88), (80, 88)), 9),\n",
       " (((9, 59), (9, 86)), 51),\n",
       " (((65, 73), (27, 74)), 9),\n",
       " (((89, 96), (88, 96)), 8),\n",
       " (((27, 40), (27, 57)), 14),\n",
       " (((7, 17), (7, 49)), 11),\n",
       " (((66, 66), (65, 89)), 1),\n",
       " (((15, 29), (15, 38)), 15),\n",
       " (((13, 22), (13, 21)), 9),\n",
       " (((11, 11), (10, 45)), 1),\n",
       " (((84, 84), (30, 84)), 1),\n",
       " (((42, 91), (91, 91)), 1),\n",
       " (((65, 87), (29, 87)), 23),\n",
       " (((17, 66), (17, 65)), 49),\n",
       " (((22, 53), (22, 54)), 32),\n",
       " (((8, 62), (7, 62)), 55),\n",
       " (((37, 90), (37, 91)), 54),\n",
       " (((50, 86), (49, 86)), 37),\n",
       " (((6, 58), (6, 67)), 53),\n",
       " (((32, 60), (32, 63)), 29),\n",
       " (((91, 96), (91, 91)), 1),\n",
       " (((13, 94), (13, 14)), 2),\n",
       " (((4, 95), (4, 95)), 92),\n",
       " (((30, 96), (59, 95)), 37),\n",
       " (((10, 28), (8, 59)), 19),\n",
       " (((29, 76), (75, 75)), 1),\n",
       " (((4, 92), (4, 91)), 88),\n",
       " (((39, 67), (66, 66)), 1),\n",
       " (((1, 99), (46, 98)), 53),\n",
       " (((41, 74), (40, 74)), 34),\n",
       " (((45, 68), (45, 69)), 24),\n",
       " (((91, 91), (4, 91)), 1),\n",
       " (((46, 66), (2, 67)), 21),\n",
       " (((61, 66), (6, 71)), 6),\n",
       " (((66, 69), (55, 89)), 4),\n",
       " (((1, 92), (1, 16)), 16),\n",
       " (((25, 98), (35, 74)), 40),\n",
       " (((56, 87), (73, 87)), 15),\n",
       " (((4, 5), (4, 91)), 2),\n",
       " (((98, 98), (22, 98)), 1),\n",
       " (((28, 95), (84, 94)), 11),\n",
       " (((9, 24), (8, 24)), 16),\n",
       " (((79, 81), (6, 83)), 3),\n",
       " (((34, 96), (34, 83)), 50),\n",
       " (((36, 59), (50, 52)), 3),\n",
       " (((3, 41), (3, 41)), 39),\n",
       " (((2, 95), (3, 95)), 93),\n",
       " (((71, 71), (52, 72)), 1),\n",
       " (((44, 71), (44, 71)), 28),\n",
       " (((22, 34), (25, 34)), 10),\n",
       " (((17, 90), (18, 48)), 31),\n",
       " (((31, 94), (30, 94)), 64),\n",
       " (((10, 97), (10, 96)), 87),\n",
       " (((42, 97), (2, 98)), 56),\n",
       " (((60, 96), (78, 82)), 5),\n",
       " (((41, 73), (40, 73)), 33),\n",
       " (((33, 33), (33, 83)), 1),\n",
       " (((46, 79), (47, 79)), 33),\n",
       " (((61, 91), (23, 92)), 31),\n",
       " (((32, 43), (31, 51)), 12),\n",
       " (((2, 94), (8, 91)), 84),\n",
       " (((23, 95), (57, 84)), 28),\n",
       " (((3, 99), (92, 95)), 4),\n",
       " (((3, 4), (3, 98)), 2),\n",
       " (((1, 87), (7, 87)), 81),\n",
       " (((53, 97), (36, 98)), 45),\n",
       " (((34, 54), (33, 54)), 21),\n",
       " (((15, 39), (16, 39)), 24),\n",
       " (((23, 53), (22, 53)), 31),\n",
       " (((12, 99), (99, 99)), 1),\n",
       " (((87, 98), (87, 98)), 12),\n",
       " (((11, 11), (11, 73)), 1),\n",
       " (((91, 91), (8, 92)), 1),\n",
       " (((18, 47), (18, 94)), 30),\n",
       " (((57, 59), (27, 59)), 3),\n",
       " (((12, 96), (13, 75)), 63),\n",
       " (((30, 67), (31, 67)), 37),\n",
       " (((22, 78), (22, 78)), 57),\n",
       " (((6, 77), (7, 52)), 46),\n",
       " (((11, 76), (57, 58)), 2),\n",
       " (((29, 29), (16, 29)), 1),\n",
       " (((53, 71), (70, 70)), 1),\n",
       " (((64, 97), (1, 98)), 34),\n",
       " (((35, 49), (35, 49)), 15),\n",
       " (((58, 88), (58, 87)), 30),\n",
       " (((16, 67), (16, 17)), 2),\n",
       " (((41, 96), (41, 88)), 48),\n",
       " (((4, 84), (4, 84)), 81),\n",
       " (((3, 73), (5, 36)), 32),\n",
       " (((15, 67), (6, 86)), 53),\n",
       " (((33, 33), (32, 91)), 1),\n",
       " (((23, 97), (57, 97)), 41),\n",
       " (((8, 58), (8, 46)), 39),\n",
       " (((9, 10), (9, 99)), 2),\n",
       " (((67, 93), (69, 92)), 24),\n",
       " (((95, 96), (95, 98)), 2),\n",
       " (((55, 97), (38, 98)), 43),\n",
       " (((12, 12), (12, 62)), 1),\n",
       " (((9, 10), (9, 92)), 2),\n",
       " (((41, 85), (67, 84)), 18),\n",
       " (((19, 73), (61, 72)), 12),\n",
       " (((25, 32), (26, 31)), 6),\n",
       " (((40, 81), (40, 80)), 41),\n",
       " (((34, 71), (34, 95)), 38),\n",
       " (((7, 28), (1, 29)), 22),\n",
       " (((13, 59), (12, 59)), 47),\n",
       " (((9, 50), (9, 51)), 42),\n",
       " (((84, 87), (84, 87)), 4),\n",
       " (((63, 71), (62, 71)), 9),\n",
       " (((3, 31), (3, 96)), 29),\n",
       " (((53, 67), (13, 76)), 15),\n",
       " (((98, 98), (59, 99)), 1),\n",
       " (((28, 50), (36, 45)), 10),\n",
       " (((58, 80), (57, 80)), 23),\n",
       " (((90, 90), (9, 90)), 1),\n",
       " (((96, 97), (86, 98)), 2),\n",
       " (((1, 42), (2, 41)), 40),\n",
       " (((7, 28), (8, 27)), 20),\n",
       " (((5, 70), (6, 70)), 65),\n",
       " (((13, 75), (75, 75)), 1),\n",
       " (((77, 91), (78, 78)), 1),\n",
       " (((33, 86), (32, 92)), 54),\n",
       " (((11, 97), (11, 96)), 86),\n",
       " (((17, 67), (17, 67)), 51),\n",
       " (((44, 95), (44, 94)), 51),\n",
       " (((21, 85), (20, 85)), 65),\n",
       " (((30, 64), (41, 64)), 24),\n",
       " (((34, 68), (35, 68)), 34),\n",
       " (((16, 50), (16, 36)), 21),\n",
       " (((65, 85), (7, 85)), 21),\n",
       " (((77, 77), (30, 78)), 1),\n",
       " (((39, 42), (38, 42)), 4),\n",
       " (((46, 72), (45, 76)), 27),\n",
       " (((57, 63), (56, 66)), 7),\n",
       " (((39, 46), (39, 46)), 8),\n",
       " (((10, 48), (10, 65)), 39),\n",
       " (((43, 82), (2, 94)), 40),\n",
       " (((21, 69), (20, 69)), 49),\n",
       " (((70, 70), (2, 71)), 1),\n",
       " (((23, 99), (23, 80)), 58),\n",
       " (((6, 98), (6, 97)), 92),\n",
       " (((31, 79), (32, 32)), 1),\n",
       " (((47, 67), (47, 48)), 2),\n",
       " (((34, 54), (29, 55)), 21),\n",
       " (((16, 97), (16, 96)), 81),\n",
       " (((17, 47), (17, 46)), 30),\n",
       " (((30, 30), (30, 90)), 1),\n",
       " (((4, 68), (5, 5)), 1),\n",
       " (((20, 20), (20, 84)), 1),\n",
       " (((29, 31), (26, 73)), 3),\n",
       " (((12, 12), (11, 12)), 1),\n",
       " (((14, 41), (13, 98)), 28),\n",
       " (((32, 79), (1, 79)), 48),\n",
       " (((32, 32), (32, 88)), 1),\n",
       " (((83, 95), (83, 96)), 13),\n",
       " (((30, 56), (30, 74)), 27),\n",
       " (((42, 45), (42, 67)), 4),\n",
       " (((30, 87), (30, 64)), 35),\n",
       " (((3, 97), (3, 98)), 95),\n",
       " (((52, 81), (52, 81)), 30),\n",
       " (((65, 80), (65, 80)), 16),\n",
       " (((7, 97), (97, 97)), 1),\n",
       " (((57, 81), (57, 81)), 25),\n",
       " (((54, 97), (54, 54)), 1),\n",
       " (((13, 13), (13, 86)), 1),\n",
       " (((56, 96), (33, 96)), 41),\n",
       " (((85, 89), (85, 89)), 5),\n",
       " (((13, 13), (13, 99)), 1),\n",
       " (((86, 86), (31, 86)), 1),\n",
       " (((31, 95), (31, 96)), 65),\n",
       " (((9, 54), (9, 10)), 2),\n",
       " (((66, 97), (25, 98)), 32),\n",
       " (((44, 93), (93, 93)), 1),\n",
       " (((19, 80), (2, 81)), 62),\n",
       " (((1, 37), (7, 36)), 30),\n",
       " (((59, 61), (39, 62)), 3),\n",
       " (((33, 98), (33, 57)), 25),\n",
       " (((4, 44), (2, 45)), 41),\n",
       " (((37, 95), (37, 95)), 59),\n",
       " (((53, 68), (54, 68)), 15),\n",
       " (((10, 95), (9, 95)), 86),\n",
       " (((1, 78), (2, 76)), 75),\n",
       " (((81, 81), (16, 81)), 1),\n",
       " (((45, 87), (44, 87)), 43),\n",
       " (((14, 15), (14, 67)), 2),\n",
       " (((14, 15), (14, 84)), 2),\n",
       " (((48, 62), (49, 56)), 8),\n",
       " (((27, 52), (27, 51)), 25),\n",
       " (((17, 46), (46, 46)), 1),\n",
       " (((80, 81), (80, 96)), 2),\n",
       " (((67, 96), (67, 96)), 30),\n",
       " (((16, 83), (16, 82)), 67),\n",
       " (((67, 77), (68, 70)), 3),\n",
       " (((33, 68), (33, 37)), 5),\n",
       " (((28, 71), (28, 70)), 43),\n",
       " (((64, 89), (79, 89)), 11),\n",
       " (((18, 35), (18, 36)), 18),\n",
       " (((20, 86), (20, 88)), 67),\n",
       " (((24, 74), (23, 82)), 51),\n",
       " (((79, 88), (79, 88)), 10),\n",
       " (((1, 98), (2, 2)), 1),\n",
       " (((12, 15), (13, 15)), 3),\n",
       " (((6, 14), (6, 97)), 9),\n",
       " (((3, 86), (4, 52)), 49),\n",
       " (((15, 52), (13, 52)), 38),\n",
       " (((27, 28), (27, 95)), 2),\n",
       " (((40, 88), (29, 96)), 49),\n",
       " (((27, 43), (27, 33)), 7),\n",
       " (((94, 94), (2, 94)), 1),\n",
       " (((7, 74), (19, 73)), 55),\n",
       " (((58, 91), (58, 92)), 34),\n",
       " (((11, 82), (5, 97)), 72),\n",
       " (((6, 68), (6, 68)), 63),\n",
       " (((18, 20), (3, 32)), 3),\n",
       " (((32, 97), (32, 95)), 64),\n",
       " (((27, 53), (19, 75)), 27),\n",
       " (((10, 60), (45, 59)), 15),\n",
       " (((1, 88), (2, 88)), 87),\n",
       " (((48, 93), (63, 92)), 30),\n",
       " (((6, 63), (6, 7)), 2),\n",
       " (((20, 78), (20, 78)), 59),\n",
       " (((26, 81), (26, 27)), 2),\n",
       " (((45, 59), (45, 60)), 15),\n",
       " (((37, 47), (36, 64)), 11),\n",
       " (((3, 98), (4, 98)), 95),\n",
       " (((10, 93), (10, 10)), 1),\n",
       " (((20, 53), (40, 49)), 10),\n",
       " (((56, 81), (72, 80)), 9),\n",
       " (((5, 77), (4, 77)), 73),\n",
       " (((20, 39), (20, 40)), 20),\n",
       " (((69, 80), (55, 80)), 12),\n",
       " (((68, 83), (68, 92)), 16),\n",
       " (((1, 92), (1, 94)), 92),\n",
       " (((14, 81), (14, 99)), 68),\n",
       " (((49, 51), (49, 52)), 3),\n",
       " (((69, 70), (69, 72)), 2),\n",
       " (((4, 34), (33, 33)), 1),\n",
       " (((67, 84), (11, 84)), 18),\n",
       " (((31, 52), (47, 51)), 5),\n",
       " (((27, 62), (54, 61)), 8),\n",
       " (((1, 83), (1, 99)), 83),\n",
       " (((30, 78), (30, 78)), 49),\n",
       " (((12, 38), (12, 37)), 26),\n",
       " (((1, 96), (1, 95)), 95),\n",
       " (((96, 96), (12, 96)), 1),\n",
       " (((81, 87), (81, 99)), 7),\n",
       " (((1, 19), (9, 19)), 11),\n",
       " (((67, 79), (67, 78)), 12),\n",
       " (((9, 93), (9, 93)), 85),\n",
       " (((10, 98), (11, 97)), 87),\n",
       " (((1, 2), (1, 97)), 2),\n",
       " (((2, 92), (2, 86)), 85),\n",
       " (((50, 50), (50, 87)), 1)]"
      ]
     },
     "execution_count": 77,
     "metadata": {},
     "output_type": "execute_result"
    }
   ],
   "source": [
    "# hors sujet\n",
    "def num_overlap(A, B): # A contains B\n",
    "    return min(A[1], B[1]) - max ((A[0], B[0])) + 1\n",
    "[(pair, num_overlap(pair[0], pair[1])) for pair in contained_pairs]"
   ]
  },
  {
   "cell_type": "code",
   "execution_count": 78,
   "id": "c1c6092c",
   "metadata": {
    "ExecuteTime": {
     "end_time": "2022-12-11T07:04:42.325179Z",
     "start_time": "2022-12-11T07:04:42.321152Z"
    },
    "hidden": true
   },
   "outputs": [],
   "source": [
    "def range_over_range(A, B): # any direction\n",
    "    return not((B[0]>A[1]) | (B[1]<A[0]))\n"
   ]
  },
  {
   "cell_type": "markdown",
   "id": "74f9cd8f",
   "metadata": {
    "hidden": true
   },
   "source": [
    "🧨 learning: | & like parenthsesis (i.e. have higher prioritity)"
   ]
  },
  {
   "cell_type": "code",
   "execution_count": 79,
   "id": "dfa47f39",
   "metadata": {
    "ExecuteTime": {
     "end_time": "2022-12-11T07:04:42.655670Z",
     "start_time": "2022-12-11T07:04:42.650800Z"
    },
    "hidden": true
   },
   "outputs": [],
   "source": [
    "overlap_pairs = [pair for pair in pairs if range_over_range(pair[0], pair[1])]"
   ]
  },
  {
   "cell_type": "code",
   "execution_count": 80,
   "id": "a3a8cf91",
   "metadata": {
    "ExecuteTime": {
     "end_time": "2022-12-11T07:04:42.788499Z",
     "start_time": "2022-12-11T07:04:42.779910Z"
    },
    "hidden": true
   },
   "outputs": [
    {
     "data": {
      "text/plain": [
       "883"
      ]
     },
     "execution_count": 80,
     "metadata": {},
     "output_type": "execute_result"
    }
   ],
   "source": [
    "len(overlap_pairs) #1000"
   ]
  },
  {
   "cell_type": "markdown",
   "id": "07c3e02e",
   "metadata": {
    "heading_collapsed": true
   },
   "source": [
    "# --- Day 5: Supply Stacks ---"
   ]
  },
  {
   "cell_type": "markdown",
   "id": "ba7b8dc7",
   "metadata": {
    "hidden": true
   },
   "source": [
    "## Part 1"
   ]
  },
  {
   "cell_type": "code",
   "execution_count": 81,
   "id": "56aa848e",
   "metadata": {
    "ExecuteTime": {
     "end_time": "2022-12-11T07:04:48.433125Z",
     "start_time": "2022-12-11T07:04:48.423614Z"
    },
    "hidden": true
   },
   "outputs": [
    {
     "data": {
      "text/plain": [
       "'    [P]                 [C] [C]    \\n    [W]         [B]     [G] [V] [V]\\n    [V]         [T] [Z] [J] '"
      ]
     },
     "execution_count": 81,
     "metadata": {},
     "output_type": "execute_result"
    }
   ],
   "source": [
    "# input looks much harder to parse\n",
    "file = \"input5.txt\"\n",
    "with open(file) as f:\n",
    "    input_str = f.read()\n",
    "input_str[:100]"
   ]
  },
  {
   "cell_type": "code",
   "execution_count": 82,
   "id": "2f9a6421",
   "metadata": {
    "ExecuteTime": {
     "end_time": "2022-12-11T07:04:49.413063Z",
     "start_time": "2022-12-11T07:04:49.408095Z"
    },
    "hidden": true
   },
   "outputs": [],
   "source": [
    "# I will build the stack_lists from their end\n",
    "lines = input_str.split(\"\\n\")"
   ]
  },
  {
   "cell_type": "code",
   "execution_count": 83,
   "id": "af2eea86",
   "metadata": {
    "ExecuteTime": {
     "end_time": "2022-12-11T07:04:51.282304Z",
     "start_time": "2022-12-11T07:04:51.276836Z"
    },
    "hidden": true
   },
   "outputs": [],
   "source": [
    "stacks = lines[:8] # without numbers\n",
    "moves = lines[10:-1]\n",
    "num_stack = 9"
   ]
  },
  {
   "cell_type": "code",
   "execution_count": 84,
   "id": "0e44e89c",
   "metadata": {
    "ExecuteTime": {
     "end_time": "2022-12-11T07:04:52.325680Z",
     "start_time": "2022-12-11T07:04:52.313333Z"
    },
    "hidden": true
   },
   "outputs": [
    {
     "data": {
      "text/plain": [
       "[[' ', 'P', ' ', ' ', ' ', ' ', 'C', 'C', ' '],\n",
       " [' ', 'W', ' ', ' ', 'B', ' ', 'G', 'V', 'V'],\n",
       " [' ', 'V', ' ', ' ', 'T', 'Z', 'J', 'T', 'S'],\n",
       " [' ', 'D', 'L', ' ', 'Q', 'F', 'Z', 'W', 'R'],\n",
       " [' ', 'C', 'N', 'R', 'H', 'L', 'Q', 'F', 'G'],\n",
       " ['F', 'M', 'Z', 'H', 'G', 'W', 'L', 'R', 'H'],\n",
       " ['R', 'H', 'M', 'C', 'P', 'C', 'V', 'N', 'W'],\n",
       " ['W', 'T', 'P', 'J', 'C', 'G', 'W', 'P', 'J']]"
      ]
     },
     "execution_count": 84,
     "metadata": {},
     "output_type": "execute_result"
    }
   ],
   "source": [
    "def get_stack_line(stacks, n):\n",
    "    return [stacks[n][i+1:i+2] for i in range(0,len(stacks[n]),4)]\n",
    "\n",
    "stack_lines = [get_stack_line(stacks, n) for n in range(len(stacks))]\n",
    "stack_lines"
   ]
  },
  {
   "cell_type": "code",
   "execution_count": 85,
   "id": "7e12ee64",
   "metadata": {
    "ExecuteTime": {
     "end_time": "2022-12-11T07:04:53.086916Z",
     "start_time": "2022-12-11T07:04:53.072685Z"
    },
    "hidden": true
   },
   "outputs": [
    {
     "data": {
      "text/plain": [
       "range(0, 8)"
      ]
     },
     "execution_count": 85,
     "metadata": {},
     "output_type": "execute_result"
    }
   ],
   "source": [
    "range(num_stack-1)"
   ]
  },
  {
   "cell_type": "code",
   "execution_count": 86,
   "id": "e9359dfa",
   "metadata": {
    "ExecuteTime": {
     "end_time": "2022-12-11T07:04:53.682628Z",
     "start_time": "2022-12-11T07:04:53.672361Z"
    },
    "hidden": true
   },
   "outputs": [],
   "source": [
    "# try [i for i in range(len(stack_lines)-1,-1,-1)]\n",
    "\n",
    "def get_stacks(stack_lines):\n",
    "    d = {}\n",
    "    for stack in range(num_stack):\n",
    "        d[stack+1] = [stack_lines[i][stack] for i in range(len(stack_lines)-1, -1, -1)]\n",
    "        # remove ' '\n",
    "        d[stack+1] = [d[stack+1][i] for i in range(len(d[stack+1])) if d[stack+1][i] != ' ']\n",
    "    return d"
   ]
  },
  {
   "cell_type": "code",
   "execution_count": 87,
   "id": "d2c5ea42",
   "metadata": {
    "ExecuteTime": {
     "end_time": "2022-12-11T07:04:54.190618Z",
     "start_time": "2022-12-11T07:04:54.184473Z"
    },
    "hidden": true
   },
   "outputs": [],
   "source": [
    "def parse_move(move):\n",
    "    pattern = re.compile(\"move (\\d+) from (\\d) to (\\d)\")\n",
    "    move_charateristics = re.search(pattern, move)\n",
    "    how_many = int(move_charateristics[1])\n",
    "    from_stack = int(move_charateristics[2])\n",
    "    to_stack = int(move_charateristics[3])\n",
    "    return {'how_many':how_many, 'from_stack':from_stack, 'to_stack':to_stack}"
   ]
  },
  {
   "cell_type": "code",
   "execution_count": 88,
   "id": "8ee40b7d",
   "metadata": {
    "ExecuteTime": {
     "end_time": "2022-12-11T07:04:54.359265Z",
     "start_time": "2022-12-11T07:04:54.351080Z"
    },
    "hidden": true
   },
   "outputs": [],
   "source": [
    "def get_moved_batch(stacks, from_stack, how_many): # edits stacks directly. not OO.\n",
    "    moved_batch = [stacks[from_stack].pop(len(stacks[from_stack])-i) for i in range(how_many, 0, -1)]\n",
    "    return moved_batch\n",
    "\n",
    "def put_moved_batch(stacks, to_stack, moved_batch):\n",
    "    stacks[to_stack]+=(moved_batch)\n",
    "    return stacks"
   ]
  },
  {
   "cell_type": "code",
   "execution_count": 89,
   "id": "31dd4a4b",
   "metadata": {
    "ExecuteTime": {
     "end_time": "2022-12-11T07:04:54.508232Z",
     "start_time": "2022-12-11T07:04:54.501520Z"
    },
    "hidden": true
   },
   "outputs": [],
   "source": [
    "def apply_move_one_by_one(stacks, parsed_move):\n",
    "    for i in range(parsed_move['how_many']):\n",
    "    #moved_batch = get_moved_batch(stacks, parsed_move['from_stack'], parsed_move['how_many'])\n",
    "    #put_moved_batch(stacks, parsed_move['to_stack'], moved_batch)\n",
    "        crate=stacks[parsed_move['from_stack']].pop()\n",
    "        stacks[parsed_move['to_stack']]+=crate\n",
    "    return stacks\n",
    "\n",
    "def apply_move_all_at_once(stacks, parsed_move):\n",
    "    moved_batch = get_moved_batch(stacks, parsed_move['from_stack'], parsed_move['how_many'])\n",
    "    put_moved_batch(stacks, parsed_move['to_stack'], moved_batch)\n",
    "    return stacks\n",
    "    "
   ]
  },
  {
   "cell_type": "code",
   "execution_count": 90,
   "id": "c3ce6d31",
   "metadata": {
    "ExecuteTime": {
     "end_time": "2022-12-11T07:04:54.674830Z",
     "start_time": "2022-12-11T07:04:54.658587Z"
    },
    "hidden": true
   },
   "outputs": [
    {
     "data": {
      "text/plain": [
       "'CVCWCRTVQ'"
      ]
     },
     "execution_count": 90,
     "metadata": {},
     "output_type": "execute_result"
    }
   ],
   "source": [
    "stacks = get_stacks(stack_lines)\n",
    "\n",
    "parsed_moves = [parse_move(move) for move in moves]\n",
    "\n",
    "for parsed_move in parsed_moves:\n",
    "    apply_move_one_by_one(stacks, parsed_move)\n",
    "    \n",
    "str.join('',[stack[-1] for stack in stacks.values()])  "
   ]
  },
  {
   "cell_type": "markdown",
   "id": "fce2a0b7",
   "metadata": {
    "hidden": true
   },
   "source": [
    "## Part 2"
   ]
  },
  {
   "cell_type": "code",
   "execution_count": 91,
   "id": "ecc176c6",
   "metadata": {
    "ExecuteTime": {
     "end_time": "2022-12-11T07:04:56.422321Z",
     "start_time": "2022-12-11T07:04:56.407985Z"
    },
    "hidden": true
   },
   "outputs": [
    {
     "data": {
      "text/plain": [
       "'CNSCZWLVT'"
      ]
     },
     "execution_count": 91,
     "metadata": {},
     "output_type": "execute_result"
    }
   ],
   "source": [
    "stacks = get_stacks(stack_lines)\n",
    "\n",
    "parsed_moves = [parse_move(move) for move in moves]\n",
    "\n",
    "for parsed_move in parsed_moves:\n",
    "    apply_move_all_at_once(stacks, parsed_move)\n",
    "    \n",
    "str.join('',[stack[-1] for stack in stacks.values()])  "
   ]
  },
  {
   "cell_type": "code",
   "execution_count": null,
   "id": "8fd8373b",
   "metadata": {
    "hidden": true
   },
   "outputs": [],
   "source": []
  },
  {
   "cell_type": "markdown",
   "id": "f7d6e05e",
   "metadata": {
    "ExecuteTime": {
     "end_time": "2023-01-03T20:57:52.811644Z",
     "start_time": "2023-01-03T20:57:52.805192Z"
    },
    "hidden": true
   },
   "source": [
    "for line in lights.splitlines():\n",
    "    print(line)\n",
    "#looks good"
   ]
  },
  {
   "cell_type": "code",
   "execution_count": null,
   "id": "607ddb4c",
   "metadata": {
    "hidden": true
   },
   "outputs": [],
   "source": []
  }
 ],
 "metadata": {
  "kernelspec": {
   "display_name": "Python 3 (ipykernel)",
   "language": "python",
   "name": "python3"
  },
  "language_info": {
   "codemirror_mode": {
    "name": "ipython",
    "version": 3
   },
   "file_extension": ".py",
   "mimetype": "text/x-python",
   "name": "python",
   "nbconvert_exporter": "python",
   "pygments_lexer": "ipython3",
   "version": "3.8.12"
  },
  "toc": {
   "base_numbering": 1,
   "nav_menu": {},
   "number_sections": false,
   "sideBar": true,
   "skip_h1_title": false,
   "title_cell": "Table of Contents",
   "title_sidebar": "Contents",
   "toc_cell": false,
   "toc_position": {},
   "toc_section_display": true,
   "toc_window_display": true
  }
 },
 "nbformat": 4,
 "nbformat_minor": 5
}
